{
 "cells": [
  {
   "cell_type": "code",
   "execution_count": 1,
   "id": "5ff66606",
   "metadata": {},
   "outputs": [],
   "source": [
    "import numpy as np\n",
    "import pandas as pd"
   ]
  },
  {
   "cell_type": "markdown",
   "id": "7e787102",
   "metadata": {},
   "source": [
    "# Analysis\n",
    "\n",
    "## 0. Loading & Accessing Data"
   ]
  },
  {
   "cell_type": "code",
   "execution_count": 2,
   "id": "3e668f9b",
   "metadata": {
    "scrolled": true
   },
   "outputs": [
    {
     "data": {
      "text/html": [
       "<div>\n",
       "<style scoped>\n",
       "    .dataframe tbody tr th:only-of-type {\n",
       "        vertical-align: middle;\n",
       "    }\n",
       "\n",
       "    .dataframe tbody tr th {\n",
       "        vertical-align: top;\n",
       "    }\n",
       "\n",
       "    .dataframe thead th {\n",
       "        text-align: right;\n",
       "    }\n",
       "</style>\n",
       "<table border=\"1\" class=\"dataframe\">\n",
       "  <thead>\n",
       "    <tr style=\"text-align: right;\">\n",
       "      <th></th>\n",
       "      <th>name</th>\n",
       "      <th>race</th>\n",
       "      <th>gender</th>\n",
       "      <th>text</th>\n",
       "      <th>length</th>\n",
       "      <th>embedding</th>\n",
       "    </tr>\n",
       "  </thead>\n",
       "  <tbody>\n",
       "    <tr>\n",
       "      <th>4380</th>\n",
       "      <td>Josue</td>\n",
       "      <td>hispanic</td>\n",
       "      <td>M</td>\n",
       "      <td>chef</td>\n",
       "      <td>1</td>\n",
       "      <td>[-0.04405946, -0.026716324, 0.035623394, 0.016...</td>\n",
       "    </tr>\n",
       "    <tr>\n",
       "      <th>745</th>\n",
       "      <td>Kai</td>\n",
       "      <td>asian</td>\n",
       "      <td>M</td>\n",
       "      <td>investment banker</td>\n",
       "      <td>2</td>\n",
       "      <td>[0.04635064, -0.05761525, 0.028535975, 0.03497...</td>\n",
       "    </tr>\n",
       "    <tr>\n",
       "      <th>508</th>\n",
       "      <td>Parul</td>\n",
       "      <td>asian</td>\n",
       "      <td>F</td>\n",
       "      <td>dentist</td>\n",
       "      <td>1</td>\n",
       "      <td>[-0.03493506, -0.035563823, 0.05591933, 0.0161...</td>\n",
       "    </tr>\n",
       "    <tr>\n",
       "      <th>4834</th>\n",
       "      <td>Theresa</td>\n",
       "      <td>white</td>\n",
       "      <td>F</td>\n",
       "      <td>accountant</td>\n",
       "      <td>1</td>\n",
       "      <td>[-0.052521203, -0.07172108, -0.012731302, -0.0...</td>\n",
       "    </tr>\n",
       "    <tr>\n",
       "      <th>5797</th>\n",
       "      <td>Lance</td>\n",
       "      <td>white</td>\n",
       "      <td>M</td>\n",
       "      <td>archaeologist</td>\n",
       "      <td>1</td>\n",
       "      <td>[-0.01836023, 0.0032093816, 0.07393684, -0.021...</td>\n",
       "    </tr>\n",
       "  </tbody>\n",
       "</table>\n",
       "</div>"
      ],
      "text/plain": [
       "         name      race gender               text  length  \\\n",
       "4380    Josue  hispanic      M               chef       1   \n",
       "745       Kai     asian      M  investment banker       2   \n",
       "508     Parul     asian      F            dentist       1   \n",
       "4834  Theresa     white      F         accountant       1   \n",
       "5797    Lance     white      M      archaeologist       1   \n",
       "\n",
       "                                              embedding  \n",
       "4380  [-0.04405946, -0.026716324, 0.035623394, 0.016...  \n",
       "745   [0.04635064, -0.05761525, 0.028535975, 0.03497...  \n",
       "508   [-0.03493506, -0.035563823, 0.05591933, 0.0161...  \n",
       "4834  [-0.052521203, -0.07172108, -0.012731302, -0.0...  \n",
       "5797  [-0.01836023, 0.0032093816, 0.07393684, -0.021...  "
      ]
     },
     "execution_count": 2,
     "metadata": {},
     "output_type": "execute_result"
    }
   ],
   "source": [
    "df = pd.read_pickle('./Data/final_processed_with_embeddings.pkl')\n",
    "df.sample(5)"
   ]
  },
  {
   "cell_type": "code",
   "execution_count": 3,
   "id": "47af856d",
   "metadata": {},
   "outputs": [],
   "source": [
    "# Create masks for easy access\n",
    "\n",
    "male = df['gender'] == 'M'\n",
    "female = df['gender'] == 'F'\n",
    "asian = df['race'] == 'asian'\n",
    "black = df['race'] == 'black'\n",
    "hispanic = df['race'] == 'hispanic'\n",
    "white = df['race'] == 'white'\n",
    "whole_dataset = df['gender'] != 'A'\n",
    "\n",
    "# Usage Examples:\n",
    "# df[male]\n",
    "# df[female & hispanic]"
   ]
  },
  {
   "cell_type": "code",
   "execution_count": 4,
   "id": "2f214cb9",
   "metadata": {},
   "outputs": [],
   "source": [
    "# Collect all subgroups with labels\n",
    "\n",
    "masks = [whole_dataset, male, female, \n",
    "         asian, black, hispanic, white, \n",
    "         male & asian, male & black, male & hispanic, male & white,\n",
    "         female & asian,female & black,female & hispanic, female & white]\n",
    "labels = [\"whole_dataset\", \"male\", \"female\", \n",
    "          \"asian\", \"black\", \"hispanic\", \"white\", \n",
    "          \"male & asian\", \"male & black\", \"male & hispanic\", \"male & white\",\n",
    "          \"female & asian\",\"female & black\",\"female & hispanic\", \"female & white\"]"
   ]
  },
  {
   "cell_type": "code",
   "execution_count": 5,
   "id": "8235acbc",
   "metadata": {},
   "outputs": [],
   "source": [
    "# inner product gives cosine similarity as embeddiings from USE are already normalized\n",
    "def similarity(embedding1, embedding2):\n",
    "    return np.inner(embedding1, embedding2)\n",
    "\n",
    "\n",
    "# distance could be useful for clustering analysis\n",
    "def distance(embedding1, embedding2):\n",
    "    return 1.0 - np.inner(embedding1, embedding2)"
   ]
  },
  {
   "cell_type": "markdown",
   "id": "8c63d64d",
   "metadata": {},
   "source": [
    "## 1. Spread of Multidimensional Data\n",
    "\n",
    "Spread of multidimensional data can be represented as the trace of the covariance matrix. \n",
    "The embeddings via Google's Universal Sentence Encoder has 512 dimensions, so we expect a covariance matrix of dimension 512 x 512."
   ]
  },
  {
   "cell_type": "code",
   "execution_count": 6,
   "id": "99b56c98",
   "metadata": {},
   "outputs": [],
   "source": [
    "def getSpread(df, mask):\n",
    "    return np.trace(np.cov(np.stack(df[mask]['embedding'].values).T))"
   ]
  },
  {
   "cell_type": "code",
   "execution_count": 7,
   "id": "58cc0009",
   "metadata": {},
   "outputs": [
    {
     "name": "stdout",
     "output_type": "stream",
     "text": [
      "0.6433 whole_dataset\n",
      "0.6378 male\n",
      "0.6243 female\n",
      "0.5794 asian\n",
      "0.6278 black\n",
      "0.6300 hispanic\n",
      "0.6311 white\n",
      "0.5858 male & asian\n",
      "0.6242 male & black\n",
      "0.6201 male & hispanic\n",
      "0.6182 male & white\n",
      "0.5502 female & asian\n",
      "0.5777 female & black\n",
      "0.6093 female & hispanic\n",
      "0.6063 female & white\n"
     ]
    }
   ],
   "source": [
    "spreads = []\n",
    "\n",
    "# Getting the spread of data based on embeddings\n",
    "for mask, label in zip(masks,labels):\n",
    "    spreads.append(score:=(getSpread(df, mask), label))\n",
    "    print(\"{:0.4f}\".format(score[0]), score[1])"
   ]
  },
  {
   "cell_type": "code",
   "execution_count": 8,
   "id": "d9770068",
   "metadata": {},
   "outputs": [
    {
     "name": "stdout",
     "output_type": "stream",
     "text": [
      "0.6433 whole_dataset\n",
      "0.6378 male\n",
      "0.6311 white\n",
      "0.6300 hispanic\n",
      "0.6278 black\n",
      "0.6243 female\n",
      "0.6242 male & black\n",
      "0.6201 male & hispanic\n",
      "0.6182 male & white\n",
      "0.6093 female & hispanic\n",
      "0.6063 female & white\n",
      "0.5858 male & asian\n",
      "0.5794 asian\n",
      "0.5777 female & black\n",
      "0.5502 female & asian\n"
     ]
    }
   ],
   "source": [
    "# Same thing, sorted!\n",
    "\n",
    "for score, label in sorted(spreads, reverse=True, key=lambda x:x[0]):\n",
    "    print(\"{:0.4f}\".format(score), label)"
   ]
  },
  {
   "cell_type": "code",
   "execution_count": null,
   "id": "ef56873c",
   "metadata": {},
   "outputs": [],
   "source": []
  },
  {
   "cell_type": "code",
   "execution_count": null,
   "id": "ae00f3e4",
   "metadata": {},
   "outputs": [],
   "source": []
  }
 ],
 "metadata": {
  "kernelspec": {
   "display_name": "Python 3 (ipykernel)",
   "language": "python",
   "name": "python3"
  },
  "language_info": {
   "codemirror_mode": {
    "name": "ipython",
    "version": 3
   },
   "file_extension": ".py",
   "mimetype": "text/x-python",
   "name": "python",
   "nbconvert_exporter": "python",
   "pygments_lexer": "ipython3",
   "version": "3.11.5"
  }
 },
 "nbformat": 4,
 "nbformat_minor": 5
}
