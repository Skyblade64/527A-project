{
 "cells": [
  {
   "cell_type": "code",
   "execution_count": 1,
   "id": "5ff66606",
   "metadata": {},
   "outputs": [],
   "source": [
    "import numpy as np\n",
    "import pandas as pd"
   ]
  },
  {
   "cell_type": "markdown",
   "id": "7e787102",
   "metadata": {},
   "source": [
    "# Analysis\n",
    "\n",
    "## 0. Loading & Accessing Data"
   ]
  },
  {
   "cell_type": "code",
   "execution_count": 2,
   "id": "3e668f9b",
   "metadata": {
    "scrolled": true
   },
   "outputs": [
    {
     "data": {
      "text/html": [
       "<div>\n",
       "<style scoped>\n",
       "    .dataframe tbody tr th:only-of-type {\n",
       "        vertical-align: middle;\n",
       "    }\n",
       "\n",
       "    .dataframe tbody tr th {\n",
       "        vertical-align: top;\n",
       "    }\n",
       "\n",
       "    .dataframe thead th {\n",
       "        text-align: right;\n",
       "    }\n",
       "</style>\n",
       "<table border=\"1\" class=\"dataframe\">\n",
       "  <thead>\n",
       "    <tr style=\"text-align: right;\">\n",
       "      <th></th>\n",
       "      <th>name</th>\n",
       "      <th>race</th>\n",
       "      <th>gender</th>\n",
       "      <th>text</th>\n",
       "      <th>embedding</th>\n",
       "    </tr>\n",
       "  </thead>\n",
       "  <tbody>\n",
       "    <tr>\n",
       "      <th>1209</th>\n",
       "      <td>Hoang</td>\n",
       "      <td>asian</td>\n",
       "      <td>M</td>\n",
       "      <td>software developer</td>\n",
       "      <td>[0.03044688, 0.01658366, 0.051026687, 0.046492...</td>\n",
       "    </tr>\n",
       "    <tr>\n",
       "      <th>4477</th>\n",
       "      <td>Fidel</td>\n",
       "      <td>hispanic</td>\n",
       "      <td>M</td>\n",
       "      <td>translator</td>\n",
       "      <td>[-0.012456206, -0.03949191, -0.026884388, 0.03...</td>\n",
       "    </tr>\n",
       "    <tr>\n",
       "      <th>2021</th>\n",
       "      <td>Jasmin</td>\n",
       "      <td>black</td>\n",
       "      <td>F</td>\n",
       "      <td>teacher</td>\n",
       "      <td>[-0.031633124, 0.018472634, 0.06361438, 0.0197...</td>\n",
       "    </tr>\n",
       "    <tr>\n",
       "      <th>5341</th>\n",
       "      <td>Duke</td>\n",
       "      <td>white</td>\n",
       "      <td>M</td>\n",
       "      <td>monarch</td>\n",
       "      <td>[0.020329619, -0.07263715, 0.0143735055, -0.00...</td>\n",
       "    </tr>\n",
       "    <tr>\n",
       "      <th>1719</th>\n",
       "      <td>Tanisha</td>\n",
       "      <td>black</td>\n",
       "      <td>F</td>\n",
       "      <td>dentist</td>\n",
       "      <td>[-0.03493506, -0.035563823, 0.05591933, 0.0161...</td>\n",
       "    </tr>\n",
       "  </tbody>\n",
       "</table>\n",
       "</div>"
      ],
      "text/plain": [
       "         name      race gender                text  \\\n",
       "1209    Hoang     asian      M  software developer   \n",
       "4477    Fidel  hispanic      M          translator   \n",
       "2021   Jasmin     black      F             teacher   \n",
       "5341     Duke     white      M             monarch   \n",
       "1719  Tanisha     black      F             dentist   \n",
       "\n",
       "                                              embedding  \n",
       "1209  [0.03044688, 0.01658366, 0.051026687, 0.046492...  \n",
       "4477  [-0.012456206, -0.03949191, -0.026884388, 0.03...  \n",
       "2021  [-0.031633124, 0.018472634, 0.06361438, 0.0197...  \n",
       "5341  [0.020329619, -0.07263715, 0.0143735055, -0.00...  \n",
       "1719  [-0.03493506, -0.035563823, 0.05591933, 0.0161...  "
      ]
     },
     "execution_count": 2,
     "metadata": {},
     "output_type": "execute_result"
    }
   ],
   "source": [
    "df = pd.read_pickle('./processed_data_with_embeddings.pkl')\n",
    "df.sample(5)"
   ]
  },
  {
   "cell_type": "code",
   "execution_count": 3,
   "id": "47af856d",
   "metadata": {},
   "outputs": [],
   "source": [
    "# Create masks for easy access\n",
    "\n",
    "male = df['gender'] == 'M'\n",
    "female = df['gender'] == 'F'\n",
    "asian = df['race'] == 'asian'\n",
    "black = df['race'] == 'black'\n",
    "hispanic = df['race'] == 'hispanic'\n",
    "white = df['race'] == 'white'\n",
    "whole_dataset = df['gender'] != 'A'\n",
    "\n",
    "# Usage Examples:\n",
    "# df[male]\n",
    "# df[female & hispanic]"
   ]
  },
  {
   "cell_type": "code",
   "execution_count": 4,
   "id": "2f214cb9",
   "metadata": {},
   "outputs": [],
   "source": [
    "# Collect all subgroups with labels\n",
    "\n",
    "masks = [whole_dataset, male, female, \n",
    "         asian, black, hispanic, white, \n",
    "         male & asian, male & black, male & hispanic, male & white,\n",
    "         female & asian,female & black,female & hispanic, female & white]\n",
    "labels = [\"whole_dataset\", \"male\", \"female\", \n",
    "          \"asian\", \"black\", \"hispanic\", \"white\", \n",
    "          \"male & asian\", \"male & black\", \"male & hispanic\", \"male & white\",\n",
    "          \"female & asian\",\"female & black\",\"female & hispanic\", \"female & white\"]"
   ]
  },
  {
   "cell_type": "code",
   "execution_count": 5,
   "id": "8235acbc",
   "metadata": {},
   "outputs": [],
   "source": [
    "# inner product gives cosine similarity as embeddiings from USE are already normalized\n",
    "def similarity(embedding1, embedding2):\n",
    "    return np.inner(embedding1, embedding2)\n",
    "\n",
    "\n",
    "# distance could be useful for clustering analysis\n",
    "def distance(embedding1, embedding2):\n",
    "    return 1.0 - np.inner(embedding1, embedding2)"
   ]
  },
  {
   "cell_type": "markdown",
   "id": "8c63d64d",
   "metadata": {},
   "source": [
    "## 1. Spread of Multidimensional Data\n",
    "\n",
    "Spread of multidimensional data can be represented as the trace of the covariance matrix. \n",
    "The embeddings via Google's Universal Sentence Encoder has 512 dimensions, so we expect a covariance matrix of dimension 512 x 512."
   ]
  },
  {
   "cell_type": "code",
   "execution_count": 6,
   "id": "99b56c98",
   "metadata": {},
   "outputs": [],
   "source": [
    "def getSpread(df, mask):\n",
    "    return np.trace(np.cov(np.stack(df[mask]['embedding'].values).T))"
   ]
  },
  {
   "cell_type": "code",
   "execution_count": 7,
   "id": "58cc0009",
   "metadata": {},
   "outputs": [
    {
     "name": "stdout",
     "output_type": "stream",
     "text": [
      "0.6433 whole_dataset\n",
      "0.6378 male\n",
      "0.6243 female\n",
      "0.5794 asian\n",
      "0.6278 black\n",
      "0.6300 hispanic\n",
      "0.6311 white\n",
      "0.5858 male & asian\n",
      "0.6242 male & black\n",
      "0.6201 male & hispanic\n",
      "0.6182 male & white\n",
      "0.5502 female & asian\n",
      "0.5777 female & black\n",
      "0.6093 female & hispanic\n",
      "0.6063 female & white\n"
     ]
    }
   ],
   "source": [
    "spreads = []\n",
    "\n",
    "# Getting the spread of data based on embeddings\n",
    "for mask, label in zip(masks,labels):\n",
    "    spreads.append(score:=(getSpread(df, mask), label))\n",
    "    print(\"{:0.4f}\".format(score[0]), score[1])"
   ]
  },
  {
   "cell_type": "code",
   "execution_count": 8,
   "id": "d9770068",
   "metadata": {},
   "outputs": [
    {
     "name": "stdout",
     "output_type": "stream",
     "text": [
      "0.6433 whole_dataset\n",
      "0.6378 male\n",
      "0.6311 white\n",
      "0.6300 hispanic\n",
      "0.6278 black\n",
      "0.6243 female\n",
      "0.6242 male & black\n",
      "0.6201 male & hispanic\n",
      "0.6182 male & white\n",
      "0.6093 female & hispanic\n",
      "0.6063 female & white\n",
      "0.5858 male & asian\n",
      "0.5794 asian\n",
      "0.5777 female & black\n",
      "0.5502 female & asian\n"
     ]
    }
   ],
   "source": [
    "# Same thing, sorted!\n",
    "\n",
    "for score, label in sorted(spreads, reverse=True, key=lambda x:x[0]):\n",
    "    print(\"{:0.4f}\".format(score), label)"
   ]
  },
  {
   "cell_type": "code",
   "execution_count": null,
   "id": "ef56873c",
   "metadata": {},
   "outputs": [],
   "source": []
  },
  {
   "cell_type": "code",
   "execution_count": null,
   "id": "ae00f3e4",
   "metadata": {},
   "outputs": [],
   "source": []
  }
 ],
 "metadata": {
  "kernelspec": {
   "display_name": "Python 3 (ipykernel)",
   "language": "python",
   "name": "python3"
  },
  "language_info": {
   "codemirror_mode": {
    "name": "ipython",
    "version": 3
   },
   "file_extension": ".py",
   "mimetype": "text/x-python",
   "name": "python",
   "nbconvert_exporter": "python",
   "pygments_lexer": "ipython3",
   "version": "3.11.5"
  }
 },
 "nbformat": 4,
 "nbformat_minor": 5
}
