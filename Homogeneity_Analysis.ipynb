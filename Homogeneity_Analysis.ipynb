{
 "cells": [
  {
   "cell_type": "code",
   "execution_count": 1,
   "id": "5ff66606",
   "metadata": {},
   "outputs": [],
   "source": [
    "import numpy as np\n",
    "import pandas as pd"
   ]
  },
  {
   "cell_type": "markdown",
   "id": "7e787102",
   "metadata": {},
   "source": [
    "# Analysis\n",
    "\n",
    "## 0. Loading & Accessing Data"
   ]
  },
  {
   "cell_type": "code",
   "execution_count": 20,
   "id": "3e668f9b",
   "metadata": {
    "scrolled": true
   },
   "outputs": [],
   "source": [
    "df = pd.read_pickle('./Data/final_processed_with_embeddings.pkl')"
   ]
  },
  {
   "cell_type": "code",
   "execution_count": 24,
   "id": "47af856d",
   "metadata": {},
   "outputs": [],
   "source": [
    "# Subset data by race and gender\n",
    "black = df.query('race == \"black\"')\n",
    "asian = df.query('race == \"asian\"')\n",
    "hispanic = df.query('race == \"hispanic\"')\n",
    "white = df.query('race == \"white\"')\n",
    "\n",
    "male = df.query('gender == \"M\"')\n",
    "female = df.query('gender == \"F\"')"
   ]
  },
  {
   "cell_type": "markdown",
   "id": "8c63d64d",
   "metadata": {},
   "source": [
    "## 1. Spread of Multidimensional Data\n",
    "\n",
    "Spread of multidimensional data can be represented as the trace / determinant of the covariance matrix. \n",
    "The embeddings via Google's Universal Sentence Encoder has 512 dimensions, so we expect a covariance matrix of dimension 512 x 512."
   ]
  },
  {
   "cell_type": "code",
   "execution_count": 100,
   "id": "99b56c98",
   "metadata": {},
   "outputs": [],
   "source": [
    "def getSpread(embeddings):\n",
    "    return np.trace(np.cov(embeddings))"
   ]
  },
  {
   "cell_type": "code",
   "execution_count": 109,
   "id": "6c12ef83",
   "metadata": {},
   "outputs": [],
   "source": [
    "def bootstrapCI(data, num_bootstrap=1000, ci=95):\n",
    "    bootstrap_spreads = []\n",
    "    \n",
    "    for _ in range(num_bootstrap):\n",
    "        \n",
    "        sample = data.sample(frac=1, replace=True) # Resampling with replacement\n",
    "        # embeddings = np.stack(sample['embedding'].values) # Calculate spread for the bootstrap sample\n",
    "        spread = getSpread(np.stack(sample['embedding'].values))\n",
    "        bootstrap_spreads.append(spread)\n",
    "    \n",
    "    lower_percentile = (100 - ci) / 2\n",
    "    upper_percentile = 100 - lower_percentile\n",
    "    confidence_interval = np.percentile(bootstrap_spreads, [lower_percentile, upper_percentile])\n",
    "    \n",
    "    return confidence_interval"
   ]
  },
  {
   "cell_type": "code",
   "execution_count": 111,
   "id": "a30a6c7f",
   "metadata": {},
   "outputs": [],
   "source": [
    "black_ci = bootstrapCI(black, num_bootstrap = 1000, ci = 95)\n",
    "asian_ci = bootstrapCI(asian, num_bootstrap = 1000, ci = 95)\n",
    "hispanic_ci = bootstrapCI(hispanic, num_bootstrap = 1000, ci = 95)\n",
    "white_ci = bootstrapCI(white, num_bootstrap = 1000, ci = 95)\n",
    "\n",
    "male_ci = bootstrapCI(male, num_bootstrap = 1000, ci = 95)\n",
    "female_ci = bootstrapCI(female, num_bootstrap = 1000, ci = 95)"
   ]
  },
  {
   "cell_type": "code",
   "execution_count": 112,
   "id": "fce5e6a1",
   "metadata": {},
   "outputs": [
    {
     "name": "stdout",
     "output_type": "stream",
     "text": [
      "Confidence Intervals for Spread:\n",
      "Black: 2.9096 - 2.9105\n",
      "Asian: 2.9110 - 2.9117\n",
      "Hispanic: 2.9209 - 2.9218\n",
      "White: 2.9136 - 2.9144\n",
      "Male: 5.8371 - 5.8381\n",
      "Female: 5.8186 - 5.8199\n"
     ]
    }
   ],
   "source": [
    "# Formatting and printing the confidence intervals\n",
    "print(\"Confidence Intervals for Spread:\")\n",
    "print(\"Black: {:.4f} - {:.4f}\".format(*black_ci))\n",
    "print(\"Asian: {:.4f} - {:.4f}\".format(*asian_ci))\n",
    "print(\"Hispanic: {:.4f} - {:.4f}\".format(*hispanic_ci))\n",
    "print(\"White: {:.4f} - {:.4f}\".format(*white_ci))\n",
    "print(\"Male: {:.4f} - {:.4f}\".format(*male_ci))\n",
    "print(\"Female: {:.4f} - {:.4f}\".format(*female_ci))"
   ]
  },
  {
   "cell_type": "markdown",
   "id": "f231dbcc",
   "metadata": {},
   "source": [
    "## Focus on Top Jobs"
   ]
  },
  {
   "cell_type": "code",
   "execution_count": 8,
   "id": "ae00f3e4",
   "metadata": {},
   "outputs": [],
   "source": [
    "def getMostFrequentJobs(df, n):\n",
    "    return df.groupby('text').size().sort_values(ascending=False)[:n].index.values\n",
    "\n",
    "\n",
    "def getDataForJobs(df, jobs):\n",
    "    return df.loc[df['text'].isin(jobs)]\n",
    "\n",
    "\n",
    "def getDataForMostFrequentJobs(df, n):\n",
    "    return getDataForJobs(df, getMostFrequentJobs(df, n))"
   ]
  },
  {
   "cell_type": "code",
   "execution_count": 9,
   "id": "06369f49",
   "metadata": {},
   "outputs": [
    {
     "data": {
      "text/html": [
       "<div>\n",
       "<style scoped>\n",
       "    .dataframe tbody tr th:only-of-type {\n",
       "        vertical-align: middle;\n",
       "    }\n",
       "\n",
       "    .dataframe tbody tr th {\n",
       "        vertical-align: top;\n",
       "    }\n",
       "\n",
       "    .dataframe thead th {\n",
       "        text-align: right;\n",
       "    }\n",
       "</style>\n",
       "<table border=\"1\" class=\"dataframe\">\n",
       "  <thead>\n",
       "    <tr style=\"text-align: right;\">\n",
       "      <th></th>\n",
       "      <th>name</th>\n",
       "      <th>race</th>\n",
       "      <th>gender</th>\n",
       "      <th>text</th>\n",
       "      <th>length</th>\n",
       "      <th>embedding</th>\n",
       "    </tr>\n",
       "  </thead>\n",
       "  <tbody>\n",
       "    <tr>\n",
       "      <th>277</th>\n",
       "      <td>Hong</td>\n",
       "      <td>asian</td>\n",
       "      <td>F</td>\n",
       "      <td>translator</td>\n",
       "      <td>1</td>\n",
       "      <td>[-0.012456206, -0.03949191, -0.026884388, 0.03...</td>\n",
       "    </tr>\n",
       "    <tr>\n",
       "      <th>599</th>\n",
       "      <td>Sonal</td>\n",
       "      <td>asian</td>\n",
       "      <td>F</td>\n",
       "      <td>accountant</td>\n",
       "      <td>1</td>\n",
       "      <td>[-0.052521203, -0.07172108, -0.012731302, -0.0...</td>\n",
       "    </tr>\n",
       "    <tr>\n",
       "      <th>680</th>\n",
       "      <td>Yong</td>\n",
       "      <td>asian</td>\n",
       "      <td>F</td>\n",
       "      <td>translator</td>\n",
       "      <td>1</td>\n",
       "      <td>[-0.012456206, -0.03949191, -0.026884388, 0.03...</td>\n",
       "    </tr>\n",
       "    <tr>\n",
       "      <th>20</th>\n",
       "      <td>Bibi</td>\n",
       "      <td>asian</td>\n",
       "      <td>F</td>\n",
       "      <td>chef</td>\n",
       "      <td>1</td>\n",
       "      <td>[-0.04405946, -0.026716324, 0.035623394, 0.016...</td>\n",
       "    </tr>\n",
       "    <tr>\n",
       "      <th>564</th>\n",
       "      <td>Yu</td>\n",
       "      <td>asian</td>\n",
       "      <td>F</td>\n",
       "      <td>translator</td>\n",
       "      <td>1</td>\n",
       "      <td>[-0.012456206, -0.03949191, -0.026884388, 0.03...</td>\n",
       "    </tr>\n",
       "    <tr>\n",
       "      <th>212</th>\n",
       "      <td>Nikita</td>\n",
       "      <td>asian</td>\n",
       "      <td>F</td>\n",
       "      <td>software developer</td>\n",
       "      <td>2</td>\n",
       "      <td>[0.03044688, 0.01658366, 0.051026687, 0.046492...</td>\n",
       "    </tr>\n",
       "    <tr>\n",
       "      <th>526</th>\n",
       "      <td>Parul</td>\n",
       "      <td>asian</td>\n",
       "      <td>F</td>\n",
       "      <td>software developer</td>\n",
       "      <td>2</td>\n",
       "      <td>[0.03044688, 0.01658366, 0.051026687, 0.046492...</td>\n",
       "    </tr>\n",
       "    <tr>\n",
       "      <th>1336</th>\n",
       "      <td>Huy</td>\n",
       "      <td>asian</td>\n",
       "      <td>M</td>\n",
       "      <td>graphic designer</td>\n",
       "      <td>2</td>\n",
       "      <td>[0.02208694, -0.06250166, 0.06601684, 0.022112...</td>\n",
       "    </tr>\n",
       "    <tr>\n",
       "      <th>1227</th>\n",
       "      <td>Hoang</td>\n",
       "      <td>asian</td>\n",
       "      <td>M</td>\n",
       "      <td>translator</td>\n",
       "      <td>1</td>\n",
       "      <td>[-0.012456206, -0.03949191, -0.026884388, 0.03...</td>\n",
       "    </tr>\n",
       "    <tr>\n",
       "      <th>813</th>\n",
       "      <td>Sandeep</td>\n",
       "      <td>asian</td>\n",
       "      <td>M</td>\n",
       "      <td>software engineer</td>\n",
       "      <td>2</td>\n",
       "      <td>[0.012382303, -0.0047106287, 0.024845174, 0.02...</td>\n",
       "    </tr>\n",
       "  </tbody>\n",
       "</table>\n",
       "</div>"
      ],
      "text/plain": [
       "         name   race gender                text  length  \\\n",
       "277      Hong  asian      F          translator       1   \n",
       "599     Sonal  asian      F          accountant       1   \n",
       "680      Yong  asian      F          translator       1   \n",
       "20       Bibi  asian      F                chef       1   \n",
       "564        Yu  asian      F          translator       1   \n",
       "212    Nikita  asian      F  software developer       2   \n",
       "526     Parul  asian      F  software developer       2   \n",
       "1336      Huy  asian      M    graphic designer       2   \n",
       "1227    Hoang  asian      M          translator       1   \n",
       "813   Sandeep  asian      M   software engineer       2   \n",
       "\n",
       "                                              embedding  \n",
       "277   [-0.012456206, -0.03949191, -0.026884388, 0.03...  \n",
       "599   [-0.052521203, -0.07172108, -0.012731302, -0.0...  \n",
       "680   [-0.012456206, -0.03949191, -0.026884388, 0.03...  \n",
       "20    [-0.04405946, -0.026716324, 0.035623394, 0.016...  \n",
       "564   [-0.012456206, -0.03949191, -0.026884388, 0.03...  \n",
       "212   [0.03044688, 0.01658366, 0.051026687, 0.046492...  \n",
       "526   [0.03044688, 0.01658366, 0.051026687, 0.046492...  \n",
       "1336  [0.02208694, -0.06250166, 0.06601684, 0.022112...  \n",
       "1227  [-0.012456206, -0.03949191, -0.026884388, 0.03...  \n",
       "813   [0.012382303, -0.0047106287, 0.024845174, 0.02...  "
      ]
     },
     "execution_count": 9,
     "metadata": {},
     "output_type": "execute_result"
    }
   ],
   "source": [
    "getDataForMostFrequentJobs(df[asian], 10).sample(10)"
   ]
  },
  {
   "cell_type": "code",
   "execution_count": 10,
   "id": "5a4f8ae5",
   "metadata": {},
   "outputs": [
    {
     "name": "stdout",
     "output_type": "stream",
     "text": [
      "0.5847 whole_dataset\n",
      "0.5832 hispanic\n",
      "0.5813 male & hispanic\n",
      "0.5768 female & hispanic\n",
      "0.5735 female\n",
      "0.5645 male\n",
      "0.5598 male & black\n",
      "0.5546 black\n",
      "0.5473 male & white\n",
      "0.5427 female & white\n",
      "0.5366 white\n",
      "0.5180 male & asian\n",
      "0.5143 female & black\n",
      "0.4887 asian\n",
      "0.4433 female & asian\n"
     ]
    }
   ],
   "source": [
    "top10_spreads = []\n",
    "\n",
    "# Getting the spread of data based on embeddings\n",
    "for mask, label in zip(masks,labels):\n",
    "    top10_spreads.append(score:=(getSpread(getDataForMostFrequentJobs(df[mask], 10)), label))    \n",
    "\n",
    "# Sort and print\n",
    "for score, label in sorted(top10_spreads, reverse=True, key=lambda x:x[0]):\n",
    "    print(\"{:0.4f}\".format(score), label)"
   ]
  },
  {
   "cell_type": "code",
   "execution_count": null,
   "id": "eeb0d19c",
   "metadata": {},
   "outputs": [],
   "source": []
  }
 ],
 "metadata": {
  "kernelspec": {
   "display_name": "Python 3 (ipykernel)",
   "language": "python",
   "name": "python3"
  },
  "language_info": {
   "codemirror_mode": {
    "name": "ipython",
    "version": 3
   },
   "file_extension": ".py",
   "mimetype": "text/x-python",
   "name": "python",
   "nbconvert_exporter": "python",
   "pygments_lexer": "ipython3",
   "version": "3.11.4"
  }
 },
 "nbformat": 4,
 "nbformat_minor": 5
}
