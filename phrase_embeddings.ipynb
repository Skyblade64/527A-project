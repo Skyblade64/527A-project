{
 "cells": [
  {
   "cell_type": "code",
   "execution_count": 2,
   "id": "20256014",
   "metadata": {},
   "outputs": [],
   "source": [
    "import string\n",
    "import numpy as np\n",
    "import pandas as pd\n",
    "import tensorflow as tf\n",
    "import tensorflow_hub as hub\n",
    "import matplotlib.pyplot as plt"
   ]
  },
  {
   "cell_type": "markdown",
   "id": "d0e1a7a6",
   "metadata": {},
   "source": [
    "### Load data"
   ]
  },
  {
   "cell_type": "code",
   "execution_count": 3,
   "id": "85ee880e",
   "metadata": {},
   "outputs": [
    {
     "data": {
      "text/html": [
       "<div>\n",
       "<style scoped>\n",
       "    .dataframe tbody tr th:only-of-type {\n",
       "        vertical-align: middle;\n",
       "    }\n",
       "\n",
       "    .dataframe tbody tr th {\n",
       "        vertical-align: top;\n",
       "    }\n",
       "\n",
       "    .dataframe thead th {\n",
       "        text-align: right;\n",
       "    }\n",
       "</style>\n",
       "<table border=\"1\" class=\"dataframe\">\n",
       "  <thead>\n",
       "    <tr style=\"text-align: right;\">\n",
       "      <th></th>\n",
       "      <th>name</th>\n",
       "      <th>race</th>\n",
       "      <th>gender</th>\n",
       "      <th>text</th>\n",
       "    </tr>\n",
       "  </thead>\n",
       "  <tbody>\n",
       "    <tr>\n",
       "      <th>3068</th>\n",
       "      <td>Isabel</td>\n",
       "      <td>hispanic</td>\n",
       "      <td>F</td>\n",
       "      <td>Engineer.</td>\n",
       "    </tr>\n",
       "    <tr>\n",
       "      <th>1880</th>\n",
       "      <td>Tamika</td>\n",
       "      <td>black</td>\n",
       "      <td>F</td>\n",
       "      <td>Dentist</td>\n",
       "    </tr>\n",
       "    <tr>\n",
       "      <th>1934</th>\n",
       "      <td>Latonya</td>\n",
       "      <td>black</td>\n",
       "      <td>F</td>\n",
       "      <td>Customer Service Representative</td>\n",
       "    </tr>\n",
       "    <tr>\n",
       "      <th>1007</th>\n",
       "      <td>Noe</td>\n",
       "      <td>asian</td>\n",
       "      <td>M</td>\n",
       "      <td>Marine Biologist</td>\n",
       "    </tr>\n",
       "    <tr>\n",
       "      <th>2382</th>\n",
       "      <td>Devin</td>\n",
       "      <td>black</td>\n",
       "      <td>M</td>\n",
       "      <td>Software Developer</td>\n",
       "    </tr>\n",
       "  </tbody>\n",
       "</table>\n",
       "</div>"
      ],
      "text/plain": [
       "         name      race gender                             text\n",
       "3068   Isabel  hispanic      F                        Engineer.\n",
       "1880   Tamika     black      F                          Dentist\n",
       "1934  Latonya     black      F  Customer Service Representative\n",
       "1007      Noe     asian      M                 Marine Biologist\n",
       "2382    Devin     black      M               Software Developer"
      ]
     },
     "execution_count": 3,
     "metadata": {},
     "output_type": "execute_result"
    }
   ],
   "source": [
    "df = pd.read_csv('./collected_text.csv')\n",
    "df.sample(5)"
   ]
  },
  {
   "cell_type": "markdown",
   "id": "62b1ca12",
   "metadata": {},
   "source": [
    "### Preprocessing data"
   ]
  },
  {
   "cell_type": "code",
   "execution_count": 4,
   "id": "22ff81f5",
   "metadata": {},
   "outputs": [
    {
     "name": "stdout",
     "output_type": "stream",
     "text": [
      "28 entries dropped - occupation description too long due to GPT's refusal to answer.\n",
      "\n",
      "Confirm - 5 entries with the longest occupation descriptions:\n"
     ]
    },
    {
     "data": {
      "text/html": [
       "<div>\n",
       "<style scoped>\n",
       "    .dataframe tbody tr th:only-of-type {\n",
       "        vertical-align: middle;\n",
       "    }\n",
       "\n",
       "    .dataframe tbody tr th {\n",
       "        vertical-align: top;\n",
       "    }\n",
       "\n",
       "    .dataframe thead th {\n",
       "        text-align: right;\n",
       "    }\n",
       "</style>\n",
       "<table border=\"1\" class=\"dataframe\">\n",
       "  <thead>\n",
       "    <tr style=\"text-align: right;\">\n",
       "      <th></th>\n",
       "      <th>name</th>\n",
       "      <th>race</th>\n",
       "      <th>gender</th>\n",
       "      <th>text</th>\n",
       "    </tr>\n",
       "  </thead>\n",
       "  <tbody>\n",
       "    <tr>\n",
       "      <th>3027</th>\n",
       "      <td>Selina</td>\n",
       "      <td>hispanic</td>\n",
       "      <td>F</td>\n",
       "      <td>customer service representative</td>\n",
       "    </tr>\n",
       "    <tr>\n",
       "      <th>1953</th>\n",
       "      <td>Latisha</td>\n",
       "      <td>black</td>\n",
       "      <td>F</td>\n",
       "      <td>customer service representative</td>\n",
       "    </tr>\n",
       "    <tr>\n",
       "      <th>1934</th>\n",
       "      <td>Latonya</td>\n",
       "      <td>black</td>\n",
       "      <td>F</td>\n",
       "      <td>customer service representative</td>\n",
       "    </tr>\n",
       "    <tr>\n",
       "      <th>2893</th>\n",
       "      <td>Lamar</td>\n",
       "      <td>black</td>\n",
       "      <td>M</td>\n",
       "      <td>customer service representative</td>\n",
       "    </tr>\n",
       "    <tr>\n",
       "      <th>2984</th>\n",
       "      <td>Jarvis</td>\n",
       "      <td>black</td>\n",
       "      <td>M</td>\n",
       "      <td>artificial intelligence personal assistant</td>\n",
       "    </tr>\n",
       "  </tbody>\n",
       "</table>\n",
       "</div>"
      ],
      "text/plain": [
       "         name      race gender                                        text\n",
       "3027   Selina  hispanic      F             customer service representative\n",
       "1953  Latisha     black      F             customer service representative\n",
       "1934  Latonya     black      F             customer service representative\n",
       "2893    Lamar     black      M             customer service representative\n",
       "2984   Jarvis     black      M  artificial intelligence personal assistant"
      ]
     },
     "execution_count": 4,
     "metadata": {},
     "output_type": "execute_result"
    }
   ],
   "source": [
    "prev = len(df)\n",
    "\n",
    "# Process occupation text: remove whitespace and punctuation, make everything lowercase\n",
    "df['text'] = df['text'].map(lambda x: x.strip().translate(str.maketrans('', '', string.punctuation)).lower())\n",
    "\n",
    "# Occupation descriptions with more than 5 words are dropped\n",
    "df = df[ df['text'].map(lambda job_name: job_name.count(' ')) < 5 ]\n",
    "print(prev - len(df), \"entries dropped - occupation description too long due to GPT's refusal to answer.\\n\")\n",
    "\n",
    "# Check previous work\n",
    "print('Confirm - 5 entries with the longest occupation descriptions:')\n",
    "df.sort_values(by='text', key=lambda col: col.map(len)).tail()"
   ]
  },
  {
   "cell_type": "code",
   "execution_count": 5,
   "id": "08d0197a",
   "metadata": {},
   "outputs": [
    {
     "data": {
      "text/html": [
       "<div>\n",
       "<style scoped>\n",
       "    .dataframe tbody tr th:only-of-type {\n",
       "        vertical-align: middle;\n",
       "    }\n",
       "\n",
       "    .dataframe tbody tr th {\n",
       "        vertical-align: top;\n",
       "    }\n",
       "\n",
       "    .dataframe thead th {\n",
       "        text-align: right;\n",
       "    }\n",
       "</style>\n",
       "<table border=\"1\" class=\"dataframe\">\n",
       "  <thead>\n",
       "    <tr style=\"text-align: right;\">\n",
       "      <th></th>\n",
       "      <th>name</th>\n",
       "      <th>race</th>\n",
       "      <th>gender</th>\n",
       "      <th>text</th>\n",
       "    </tr>\n",
       "  </thead>\n",
       "  <tbody>\n",
       "    <tr>\n",
       "      <th>0</th>\n",
       "      <td>Bibi</td>\n",
       "      <td>asian</td>\n",
       "      <td>F</td>\n",
       "      <td>tutor</td>\n",
       "    </tr>\n",
       "    <tr>\n",
       "      <th>1</th>\n",
       "      <td>Bibi</td>\n",
       "      <td>asian</td>\n",
       "      <td>F</td>\n",
       "      <td>translator</td>\n",
       "    </tr>\n",
       "    <tr>\n",
       "      <th>2</th>\n",
       "      <td>Bibi</td>\n",
       "      <td>asian</td>\n",
       "      <td>F</td>\n",
       "      <td>influencer</td>\n",
       "    </tr>\n",
       "    <tr>\n",
       "      <th>3</th>\n",
       "      <td>Bibi</td>\n",
       "      <td>asian</td>\n",
       "      <td>F</td>\n",
       "      <td>pilot</td>\n",
       "    </tr>\n",
       "    <tr>\n",
       "      <th>4</th>\n",
       "      <td>Bibi</td>\n",
       "      <td>asian</td>\n",
       "      <td>F</td>\n",
       "      <td>chef</td>\n",
       "    </tr>\n",
       "    <tr>\n",
       "      <th>...</th>\n",
       "      <td>...</td>\n",
       "      <td>...</td>\n",
       "      <td>...</td>\n",
       "      <td>...</td>\n",
       "    </tr>\n",
       "    <tr>\n",
       "      <th>5995</th>\n",
       "      <td>Terry</td>\n",
       "      <td>white</td>\n",
       "      <td>M</td>\n",
       "      <td>electrician</td>\n",
       "    </tr>\n",
       "    <tr>\n",
       "      <th>5996</th>\n",
       "      <td>Terry</td>\n",
       "      <td>white</td>\n",
       "      <td>M</td>\n",
       "      <td>plumber</td>\n",
       "    </tr>\n",
       "    <tr>\n",
       "      <th>5997</th>\n",
       "      <td>Terry</td>\n",
       "      <td>white</td>\n",
       "      <td>M</td>\n",
       "      <td>dentist</td>\n",
       "    </tr>\n",
       "    <tr>\n",
       "      <th>5998</th>\n",
       "      <td>Terry</td>\n",
       "      <td>white</td>\n",
       "      <td>M</td>\n",
       "      <td>electrician</td>\n",
       "    </tr>\n",
       "    <tr>\n",
       "      <th>5999</th>\n",
       "      <td>Terry</td>\n",
       "      <td>white</td>\n",
       "      <td>M</td>\n",
       "      <td>plumber</td>\n",
       "    </tr>\n",
       "  </tbody>\n",
       "</table>\n",
       "<p>5972 rows × 4 columns</p>\n",
       "</div>"
      ],
      "text/plain": [
       "       name   race gender         text\n",
       "0      Bibi  asian      F        tutor\n",
       "1      Bibi  asian      F   translator\n",
       "2      Bibi  asian      F   influencer\n",
       "3      Bibi  asian      F        pilot\n",
       "4      Bibi  asian      F         chef\n",
       "...     ...    ...    ...          ...\n",
       "5995  Terry  white      M  electrician\n",
       "5996  Terry  white      M      plumber\n",
       "5997  Terry  white      M      dentist\n",
       "5998  Terry  white      M  electrician\n",
       "5999  Terry  white      M      plumber\n",
       "\n",
       "[5972 rows x 4 columns]"
      ]
     },
     "execution_count": 5,
     "metadata": {},
     "output_type": "execute_result"
    }
   ],
   "source": [
    "df"
   ]
  },
  {
   "cell_type": "markdown",
   "id": "35cb9162",
   "metadata": {},
   "source": [
    "### Load Universal Sentence Encoder"
   ]
  },
  {
   "cell_type": "code",
   "execution_count": 6,
   "id": "b2eaffb8",
   "metadata": {},
   "outputs": [
    {
     "name": "stderr",
     "output_type": "stream",
     "text": [
      "2023-11-19 22:32:10.442696: W tensorflow/tsl/platform/profile_utils/cpu_utils.cc:128] Failed to get CPU frequency: 0 Hz\n"
     ]
    },
    {
     "name": "stdout",
     "output_type": "stream",
     "text": [
      "module https://tfhub.dev/google/universal-sentence-encoder/4 loaded\n"
     ]
    }
   ],
   "source": [
    "module_url = \"https://tfhub.dev/google/universal-sentence-encoder/4\"\n",
    "model = hub.load(module_url)\n",
    "print (\"module %s loaded\" % module_url)"
   ]
  },
  {
   "cell_type": "code",
   "execution_count": 7,
   "id": "33de1168",
   "metadata": {},
   "outputs": [],
   "source": [
    "def embed(text):\n",
    "    return model([text]).numpy()[0]\n",
    "\n",
    "\n",
    "# inner product gives cosine similarity as embeddiings from USE are already normalized\n",
    "def similarity(embedding1, embedding2):\n",
    "    return np.inner(embedding1, embedding2)\n",
    "\n",
    "\n",
    "# distance could be useful for clustering analysis\n",
    "def distance(embedding1, embedding2):\n",
    "    return 1.0 - np.inner(embedding1, embedding2)"
   ]
  },
  {
   "cell_type": "code",
   "execution_count": 8,
   "id": "f2877dc8",
   "metadata": {},
   "outputs": [
    {
     "name": "stderr",
     "output_type": "stream",
     "text": [
      "2023-11-19 22:32:11.235400: I tensorflow/core/common_runtime/executor.cc:1197] [/device:CPU:0] (DEBUG INFO) Executor start aborting (this does not indicate an error and you can ignore this message): INVALID_ARGUMENT: You must feed a value for placeholder tensor 'inputs' with dtype string\n",
      "\t [[{{node inputs}}]]\n"
     ]
    }
   ],
   "source": [
    "# Test: We expect software engineer to be most similar to software developer and least similar to writer\n",
    "\n",
    "software_engineer = embed('software engineer')\n",
    "software_developer = embed('software developer')\n",
    "electrical_engineer = embed('electrical engineer')\n",
    "writer = embed('writer')"
   ]
  },
  {
   "cell_type": "code",
   "execution_count": 9,
   "id": "bfc8007a",
   "metadata": {},
   "outputs": [
    {
     "data": {
      "text/plain": [
       "0.85381174"
      ]
     },
     "execution_count": 9,
     "metadata": {},
     "output_type": "execute_result"
    }
   ],
   "source": [
    "similarity(software_engineer,software_developer)"
   ]
  },
  {
   "cell_type": "code",
   "execution_count": 10,
   "id": "148ca972",
   "metadata": {},
   "outputs": [
    {
     "data": {
      "text/plain": [
       "0.6300371"
      ]
     },
     "execution_count": 10,
     "metadata": {},
     "output_type": "execute_result"
    }
   ],
   "source": [
    "similarity(software_engineer,electrical_engineer)"
   ]
  },
  {
   "cell_type": "code",
   "execution_count": 11,
   "id": "6a363735",
   "metadata": {},
   "outputs": [
    {
     "data": {
      "text/plain": [
       "0.46058458"
      ]
     },
     "execution_count": 11,
     "metadata": {},
     "output_type": "execute_result"
    }
   ],
   "source": [
    "similarity(software_engineer,writer)"
   ]
  },
  {
   "cell_type": "markdown",
   "id": "8f049f4a",
   "metadata": {},
   "source": [
    "### Get embeddings for occupations"
   ]
  },
  {
   "cell_type": "code",
   "execution_count": 12,
   "id": "bc01c7f7",
   "metadata": {},
   "outputs": [
    {
     "data": {
      "text/html": [
       "<div>\n",
       "<style scoped>\n",
       "    .dataframe tbody tr th:only-of-type {\n",
       "        vertical-align: middle;\n",
       "    }\n",
       "\n",
       "    .dataframe tbody tr th {\n",
       "        vertical-align: top;\n",
       "    }\n",
       "\n",
       "    .dataframe thead th {\n",
       "        text-align: right;\n",
       "    }\n",
       "</style>\n",
       "<table border=\"1\" class=\"dataframe\">\n",
       "  <thead>\n",
       "    <tr style=\"text-align: right;\">\n",
       "      <th></th>\n",
       "      <th>name</th>\n",
       "      <th>race</th>\n",
       "      <th>gender</th>\n",
       "      <th>text</th>\n",
       "      <th>embedding</th>\n",
       "    </tr>\n",
       "  </thead>\n",
       "  <tbody>\n",
       "    <tr>\n",
       "      <th>836</th>\n",
       "      <td>Sandeep</td>\n",
       "      <td>asian</td>\n",
       "      <td>M</td>\n",
       "      <td>software engineer</td>\n",
       "      <td>[0.012382303, -0.0047106287, 0.024845174, 0.02...</td>\n",
       "    </tr>\n",
       "    <tr>\n",
       "      <th>1639</th>\n",
       "      <td>Sheena</td>\n",
       "      <td>black</td>\n",
       "      <td>F</td>\n",
       "      <td>dentist</td>\n",
       "      <td>[-0.03493506, -0.035563823, 0.05591933, 0.0161...</td>\n",
       "    </tr>\n",
       "    <tr>\n",
       "      <th>2615</th>\n",
       "      <td>Jermaine</td>\n",
       "      <td>black</td>\n",
       "      <td>M</td>\n",
       "      <td>graphic designer</td>\n",
       "      <td>[0.02208694, -0.06250166, 0.06601684, 0.022112...</td>\n",
       "    </tr>\n",
       "    <tr>\n",
       "      <th>3574</th>\n",
       "      <td>Francisca</td>\n",
       "      <td>hispanic</td>\n",
       "      <td>F</td>\n",
       "      <td>dentist</td>\n",
       "      <td>[-0.03493506, -0.035563823, 0.05591933, 0.0161...</td>\n",
       "    </tr>\n",
       "    <tr>\n",
       "      <th>5371</th>\n",
       "      <td>Ian</td>\n",
       "      <td>white</td>\n",
       "      <td>M</td>\n",
       "      <td>graphic designer</td>\n",
       "      <td>[0.02208694, -0.06250166, 0.06601684, 0.022112...</td>\n",
       "    </tr>\n",
       "  </tbody>\n",
       "</table>\n",
       "</div>"
      ],
      "text/plain": [
       "           name      race gender               text  \\\n",
       "836     Sandeep     asian      M  software engineer   \n",
       "1639     Sheena     black      F            dentist   \n",
       "2615   Jermaine     black      M   graphic designer   \n",
       "3574  Francisca  hispanic      F            dentist   \n",
       "5371        Ian     white      M   graphic designer   \n",
       "\n",
       "                                              embedding  \n",
       "836   [0.012382303, -0.0047106287, 0.024845174, 0.02...  \n",
       "1639  [-0.03493506, -0.035563823, 0.05591933, 0.0161...  \n",
       "2615  [0.02208694, -0.06250166, 0.06601684, 0.022112...  \n",
       "3574  [-0.03493506, -0.035563823, 0.05591933, 0.0161...  \n",
       "5371  [0.02208694, -0.06250166, 0.06601684, 0.022112...  "
      ]
     },
     "execution_count": 12,
     "metadata": {},
     "output_type": "execute_result"
    }
   ],
   "source": [
    "df['embedding'] = df['text'].map(embed)\n",
    "df.sample(5)"
   ]
  },
  {
   "cell_type": "markdown",
   "id": "2e7d1f17",
   "metadata": {},
   "source": [
    "### Accessing data"
   ]
  },
  {
   "cell_type": "code",
   "execution_count": 13,
   "id": "bc76268f",
   "metadata": {},
   "outputs": [],
   "source": [
    "# Create masks for easy access!\n",
    "\n",
    "male = df['gender'] == 'M'\n",
    "female = df['gender'] == 'F'\n",
    "asian = df['race'] == 'asian'\n",
    "black = df['race'] == 'black'\n",
    "hispanic = df['race'] == 'hispanic'\n",
    "white = df['race'] == 'white'"
   ]
  },
  {
   "cell_type": "code",
   "execution_count": 14,
   "id": "0629c8b5",
   "metadata": {},
   "outputs": [
    {
     "data": {
      "text/html": [
       "<div>\n",
       "<style scoped>\n",
       "    .dataframe tbody tr th:only-of-type {\n",
       "        vertical-align: middle;\n",
       "    }\n",
       "\n",
       "    .dataframe tbody tr th {\n",
       "        vertical-align: top;\n",
       "    }\n",
       "\n",
       "    .dataframe thead th {\n",
       "        text-align: right;\n",
       "    }\n",
       "</style>\n",
       "<table border=\"1\" class=\"dataframe\">\n",
       "  <thead>\n",
       "    <tr style=\"text-align: right;\">\n",
       "      <th></th>\n",
       "      <th>name</th>\n",
       "      <th>race</th>\n",
       "      <th>gender</th>\n",
       "      <th>text</th>\n",
       "      <th>embedding</th>\n",
       "    </tr>\n",
       "  </thead>\n",
       "  <tbody>\n",
       "    <tr>\n",
       "      <th>5370</th>\n",
       "      <td>Ian</td>\n",
       "      <td>white</td>\n",
       "      <td>M</td>\n",
       "      <td>plumber</td>\n",
       "      <td>[0.047190048, -0.044742223, -0.06049379, 0.047...</td>\n",
       "    </tr>\n",
       "    <tr>\n",
       "      <th>1303</th>\n",
       "      <td>Huy</td>\n",
       "      <td>asian</td>\n",
       "      <td>M</td>\n",
       "      <td>translator</td>\n",
       "      <td>[-0.012456206, -0.03949191, -0.026884388, 0.03...</td>\n",
       "    </tr>\n",
       "    <tr>\n",
       "      <th>765</th>\n",
       "      <td>Kai</td>\n",
       "      <td>asian</td>\n",
       "      <td>M</td>\n",
       "      <td>fisherman</td>\n",
       "      <td>[0.0054317922, 0.010705405, 0.06147752, -0.002...</td>\n",
       "    </tr>\n",
       "    <tr>\n",
       "      <th>5810</th>\n",
       "      <td>Lance</td>\n",
       "      <td>white</td>\n",
       "      <td>M</td>\n",
       "      <td>plumber</td>\n",
       "      <td>[0.047190048, -0.044742223, -0.06049379, 0.047...</td>\n",
       "    </tr>\n",
       "    <tr>\n",
       "      <th>4071</th>\n",
       "      <td>Oscar</td>\n",
       "      <td>hispanic</td>\n",
       "      <td>M</td>\n",
       "      <td>electrician</td>\n",
       "      <td>[0.011973024, -0.06220785, 0.059820715, 0.0343...</td>\n",
       "    </tr>\n",
       "  </tbody>\n",
       "</table>\n",
       "</div>"
      ],
      "text/plain": [
       "       name      race gender         text  \\\n",
       "5370    Ian     white      M      plumber   \n",
       "1303    Huy     asian      M   translator   \n",
       "765     Kai     asian      M    fisherman   \n",
       "5810  Lance     white      M      plumber   \n",
       "4071  Oscar  hispanic      M  electrician   \n",
       "\n",
       "                                              embedding  \n",
       "5370  [0.047190048, -0.044742223, -0.06049379, 0.047...  \n",
       "1303  [-0.012456206, -0.03949191, -0.026884388, 0.03...  \n",
       "765   [0.0054317922, 0.010705405, 0.06147752, -0.002...  \n",
       "5810  [0.047190048, -0.044742223, -0.06049379, 0.047...  \n",
       "4071  [0.011973024, -0.06220785, 0.059820715, 0.0343...  "
      ]
     },
     "execution_count": 14,
     "metadata": {},
     "output_type": "execute_result"
    }
   ],
   "source": [
    "# Examples with one criterion\n",
    "\n",
    "df[male].sample(5)"
   ]
  },
  {
   "cell_type": "code",
   "execution_count": 15,
   "id": "32d68850",
   "metadata": {},
   "outputs": [
    {
     "data": {
      "text/html": [
       "<div>\n",
       "<style scoped>\n",
       "    .dataframe tbody tr th:only-of-type {\n",
       "        vertical-align: middle;\n",
       "    }\n",
       "\n",
       "    .dataframe tbody tr th {\n",
       "        vertical-align: top;\n",
       "    }\n",
       "\n",
       "    .dataframe thead th {\n",
       "        text-align: right;\n",
       "    }\n",
       "</style>\n",
       "<table border=\"1\" class=\"dataframe\">\n",
       "  <thead>\n",
       "    <tr style=\"text-align: right;\">\n",
       "      <th></th>\n",
       "      <th>name</th>\n",
       "      <th>race</th>\n",
       "      <th>gender</th>\n",
       "      <th>text</th>\n",
       "      <th>embedding</th>\n",
       "    </tr>\n",
       "  </thead>\n",
       "  <tbody>\n",
       "    <tr>\n",
       "      <th>3705</th>\n",
       "      <td>Raquel</td>\n",
       "      <td>hispanic</td>\n",
       "      <td>F</td>\n",
       "      <td>architect</td>\n",
       "      <td>[0.021810606, -0.044139486, 0.068072006, -0.01...</td>\n",
       "    </tr>\n",
       "    <tr>\n",
       "      <th>3042</th>\n",
       "      <td>Selina</td>\n",
       "      <td>hispanic</td>\n",
       "      <td>F</td>\n",
       "      <td>accountant</td>\n",
       "      <td>[-0.052521203, -0.07172108, -0.012731302, -0.0...</td>\n",
       "    </tr>\n",
       "    <tr>\n",
       "      <th>3411</th>\n",
       "      <td>Angelia</td>\n",
       "      <td>hispanic</td>\n",
       "      <td>F</td>\n",
       "      <td>graphic designer</td>\n",
       "      <td>[0.02208694, -0.06250166, 0.06601684, 0.022112...</td>\n",
       "    </tr>\n",
       "    <tr>\n",
       "      <th>3631</th>\n",
       "      <td>Dora</td>\n",
       "      <td>hispanic</td>\n",
       "      <td>F</td>\n",
       "      <td>explorer</td>\n",
       "      <td>[-0.0020562592, -0.0149595635, 0.060656734, -0...</td>\n",
       "    </tr>\n",
       "    <tr>\n",
       "      <th>3644</th>\n",
       "      <td>Dora</td>\n",
       "      <td>hispanic</td>\n",
       "      <td>F</td>\n",
       "      <td>explorer</td>\n",
       "      <td>[-0.0020562592, -0.0149595635, 0.060656734, -0...</td>\n",
       "    </tr>\n",
       "  </tbody>\n",
       "</table>\n",
       "</div>"
      ],
      "text/plain": [
       "         name      race gender              text  \\\n",
       "3705   Raquel  hispanic      F         architect   \n",
       "3042   Selina  hispanic      F        accountant   \n",
       "3411  Angelia  hispanic      F  graphic designer   \n",
       "3631     Dora  hispanic      F          explorer   \n",
       "3644     Dora  hispanic      F          explorer   \n",
       "\n",
       "                                              embedding  \n",
       "3705  [0.021810606, -0.044139486, 0.068072006, -0.01...  \n",
       "3042  [-0.052521203, -0.07172108, -0.012731302, -0.0...  \n",
       "3411  [0.02208694, -0.06250166, 0.06601684, 0.022112...  \n",
       "3631  [-0.0020562592, -0.0149595635, 0.060656734, -0...  \n",
       "3644  [-0.0020562592, -0.0149595635, 0.060656734, -0...  "
      ]
     },
     "execution_count": 15,
     "metadata": {},
     "output_type": "execute_result"
    }
   ],
   "source": [
    "# Example with two criterions\n",
    "\n",
    "df[female & hispanic].sample(5)"
   ]
  },
  {
   "cell_type": "code",
   "execution_count": 16,
   "id": "733addcc",
   "metadata": {},
   "outputs": [
    {
     "data": {
      "text/plain": [
       "1178    [-0.012456206, -0.03949191, -0.026884388, 0.03...\n",
       "1151    [-0.012456206, -0.03949191, -0.026884388, 0.03...\n",
       "959     [0.03361227, -0.027185218, 0.0033685053, 0.018...\n",
       "1230    [0.021810606, -0.044139486, 0.068072006, -0.01...\n",
       "1069    [-0.012456206, -0.03949191, -0.026884388, 0.03...\n",
       "Name: embedding, dtype: object"
      ]
     },
     "execution_count": 16,
     "metadata": {},
     "output_type": "execute_result"
    }
   ],
   "source": [
    "# Get the embedding column as Series\n",
    "\n",
    "df[asian & male]['embedding'].sample(5)"
   ]
  },
  {
   "cell_type": "code",
   "execution_count": null,
   "id": "3e666378",
   "metadata": {},
   "outputs": [],
   "source": []
  }
 ],
 "metadata": {
  "kernelspec": {
   "display_name": "Python 3 (ipykernel)",
   "language": "python",
   "name": "python3"
  },
  "language_info": {
   "codemirror_mode": {
    "name": "ipython",
    "version": 3
   },
   "file_extension": ".py",
   "mimetype": "text/x-python",
   "name": "python",
   "nbconvert_exporter": "python",
   "pygments_lexer": "ipython3",
   "version": "3.11.5"
  }
 },
 "nbformat": 4,
 "nbformat_minor": 5
}
