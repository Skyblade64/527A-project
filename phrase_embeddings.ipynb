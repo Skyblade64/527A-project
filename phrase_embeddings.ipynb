{
 "cells": [
  {
   "cell_type": "code",
   "execution_count": 1,
   "id": "20256014",
   "metadata": {},
   "outputs": [],
   "source": [
    "import string\n",
    "import numpy as np\n",
    "import pandas as pd\n",
    "import tensorflow as tf\n",
    "import tensorflow_hub as hub"
   ]
  },
  {
   "cell_type": "markdown",
   "id": "d0e1a7a6",
   "metadata": {},
   "source": [
    "# Preparation\n",
    "\n",
    "### Load data"
   ]
  },
  {
   "cell_type": "code",
   "execution_count": 2,
   "id": "85ee880e",
   "metadata": {},
   "outputs": [
    {
     "data": {
      "text/html": [
       "<div>\n",
       "<style scoped>\n",
       "    .dataframe tbody tr th:only-of-type {\n",
       "        vertical-align: middle;\n",
       "    }\n",
       "\n",
       "    .dataframe tbody tr th {\n",
       "        vertical-align: top;\n",
       "    }\n",
       "\n",
       "    .dataframe thead th {\n",
       "        text-align: right;\n",
       "    }\n",
       "</style>\n",
       "<table border=\"1\" class=\"dataframe\">\n",
       "  <thead>\n",
       "    <tr style=\"text-align: right;\">\n",
       "      <th></th>\n",
       "      <th>name</th>\n",
       "      <th>race</th>\n",
       "      <th>gender</th>\n",
       "      <th>text</th>\n",
       "    </tr>\n",
       "  </thead>\n",
       "  <tbody>\n",
       "    <tr>\n",
       "      <th>4646</th>\n",
       "      <td>Jocelyn</td>\n",
       "      <td>white</td>\n",
       "      <td>F</td>\n",
       "      <td>Accountant</td>\n",
       "    </tr>\n",
       "    <tr>\n",
       "      <th>4244</th>\n",
       "      <td>Andreas</td>\n",
       "      <td>hispanic</td>\n",
       "      <td>M</td>\n",
       "      <td>Software Engineer</td>\n",
       "    </tr>\n",
       "    <tr>\n",
       "      <th>4769</th>\n",
       "      <td>Victoria</td>\n",
       "      <td>white</td>\n",
       "      <td>F</td>\n",
       "      <td>Graphic Designer</td>\n",
       "    </tr>\n",
       "    <tr>\n",
       "      <th>671</th>\n",
       "      <td>Yong</td>\n",
       "      <td>asian</td>\n",
       "      <td>F</td>\n",
       "      <td>Translator</td>\n",
       "    </tr>\n",
       "    <tr>\n",
       "      <th>2463</th>\n",
       "      <td>Reginald</td>\n",
       "      <td>black</td>\n",
       "      <td>M</td>\n",
       "      <td>Botanist</td>\n",
       "    </tr>\n",
       "  </tbody>\n",
       "</table>\n",
       "</div>"
      ],
      "text/plain": [
       "          name      race gender               text\n",
       "4646   Jocelyn     white      F         Accountant\n",
       "4244   Andreas  hispanic      M  Software Engineer\n",
       "4769  Victoria     white      F   Graphic Designer\n",
       "671       Yong     asian      F         Translator\n",
       "2463  Reginald     black      M           Botanist"
      ]
     },
     "execution_count": 2,
     "metadata": {},
     "output_type": "execute_result"
    }
   ],
   "source": [
    "df = pd.read_csv('./collected_text.csv')\n",
    "df.sample(5)"
   ]
  },
  {
   "cell_type": "markdown",
   "id": "62b1ca12",
   "metadata": {},
   "source": [
    "### Preprocessing data"
   ]
  },
  {
   "cell_type": "code",
   "execution_count": 3,
   "id": "22ff81f5",
   "metadata": {},
   "outputs": [
    {
     "name": "stdout",
     "output_type": "stream",
     "text": [
      "28 entries dropped - occupation description too long due to GPT's refusal to answer.\n",
      "\n",
      "Confirm - 5 entries with the longest occupation descriptions:\n"
     ]
    },
    {
     "data": {
      "text/html": [
       "<div>\n",
       "<style scoped>\n",
       "    .dataframe tbody tr th:only-of-type {\n",
       "        vertical-align: middle;\n",
       "    }\n",
       "\n",
       "    .dataframe tbody tr th {\n",
       "        vertical-align: top;\n",
       "    }\n",
       "\n",
       "    .dataframe thead th {\n",
       "        text-align: right;\n",
       "    }\n",
       "</style>\n",
       "<table border=\"1\" class=\"dataframe\">\n",
       "  <thead>\n",
       "    <tr style=\"text-align: right;\">\n",
       "      <th></th>\n",
       "      <th>name</th>\n",
       "      <th>race</th>\n",
       "      <th>gender</th>\n",
       "      <th>text</th>\n",
       "    </tr>\n",
       "  </thead>\n",
       "  <tbody>\n",
       "    <tr>\n",
       "      <th>3027</th>\n",
       "      <td>Selina</td>\n",
       "      <td>hispanic</td>\n",
       "      <td>F</td>\n",
       "      <td>customer service representative</td>\n",
       "    </tr>\n",
       "    <tr>\n",
       "      <th>1953</th>\n",
       "      <td>Latisha</td>\n",
       "      <td>black</td>\n",
       "      <td>F</td>\n",
       "      <td>customer service representative</td>\n",
       "    </tr>\n",
       "    <tr>\n",
       "      <th>1934</th>\n",
       "      <td>Latonya</td>\n",
       "      <td>black</td>\n",
       "      <td>F</td>\n",
       "      <td>customer service representative</td>\n",
       "    </tr>\n",
       "    <tr>\n",
       "      <th>2893</th>\n",
       "      <td>Lamar</td>\n",
       "      <td>black</td>\n",
       "      <td>M</td>\n",
       "      <td>customer service representative</td>\n",
       "    </tr>\n",
       "    <tr>\n",
       "      <th>2984</th>\n",
       "      <td>Jarvis</td>\n",
       "      <td>black</td>\n",
       "      <td>M</td>\n",
       "      <td>artificial intelligence personal assistant</td>\n",
       "    </tr>\n",
       "  </tbody>\n",
       "</table>\n",
       "</div>"
      ],
      "text/plain": [
       "         name      race gender                                        text\n",
       "3027   Selina  hispanic      F             customer service representative\n",
       "1953  Latisha     black      F             customer service representative\n",
       "1934  Latonya     black      F             customer service representative\n",
       "2893    Lamar     black      M             customer service representative\n",
       "2984   Jarvis     black      M  artificial intelligence personal assistant"
      ]
     },
     "execution_count": 3,
     "metadata": {},
     "output_type": "execute_result"
    }
   ],
   "source": [
    "prev = len(df)\n",
    "\n",
    "# Process occupation text: remove whitespace and punctuation, make everything lowercase\n",
    "df['text'] = df['text'].map(lambda x: x.strip().translate(str.maketrans('', '', string.punctuation)).lower())\n",
    "\n",
    "# Occupation descriptions with more than 5 words are dropped\n",
    "df = df[ df['text'].map(lambda job_name: job_name.count(' ')) < 5 ]\n",
    "print(prev - len(df), \"entries dropped - occupation description too long due to GPT's refusal to answer.\\n\")\n",
    "\n",
    "# Check previous work\n",
    "print('Confirm - 5 entries with the longest occupation descriptions:')\n",
    "df.sort_values(by='text', key=lambda col: col.map(len)).tail()"
   ]
  },
  {
   "cell_type": "code",
   "execution_count": 4,
   "id": "08d0197a",
   "metadata": {},
   "outputs": [
    {
     "data": {
      "text/html": [
       "<div>\n",
       "<style scoped>\n",
       "    .dataframe tbody tr th:only-of-type {\n",
       "        vertical-align: middle;\n",
       "    }\n",
       "\n",
       "    .dataframe tbody tr th {\n",
       "        vertical-align: top;\n",
       "    }\n",
       "\n",
       "    .dataframe thead th {\n",
       "        text-align: right;\n",
       "    }\n",
       "</style>\n",
       "<table border=\"1\" class=\"dataframe\">\n",
       "  <thead>\n",
       "    <tr style=\"text-align: right;\">\n",
       "      <th></th>\n",
       "      <th>name</th>\n",
       "      <th>race</th>\n",
       "      <th>gender</th>\n",
       "      <th>text</th>\n",
       "    </tr>\n",
       "  </thead>\n",
       "  <tbody>\n",
       "    <tr>\n",
       "      <th>0</th>\n",
       "      <td>Bibi</td>\n",
       "      <td>asian</td>\n",
       "      <td>F</td>\n",
       "      <td>tutor</td>\n",
       "    </tr>\n",
       "    <tr>\n",
       "      <th>1</th>\n",
       "      <td>Bibi</td>\n",
       "      <td>asian</td>\n",
       "      <td>F</td>\n",
       "      <td>translator</td>\n",
       "    </tr>\n",
       "    <tr>\n",
       "      <th>2</th>\n",
       "      <td>Bibi</td>\n",
       "      <td>asian</td>\n",
       "      <td>F</td>\n",
       "      <td>influencer</td>\n",
       "    </tr>\n",
       "    <tr>\n",
       "      <th>3</th>\n",
       "      <td>Bibi</td>\n",
       "      <td>asian</td>\n",
       "      <td>F</td>\n",
       "      <td>pilot</td>\n",
       "    </tr>\n",
       "    <tr>\n",
       "      <th>4</th>\n",
       "      <td>Bibi</td>\n",
       "      <td>asian</td>\n",
       "      <td>F</td>\n",
       "      <td>chef</td>\n",
       "    </tr>\n",
       "    <tr>\n",
       "      <th>...</th>\n",
       "      <td>...</td>\n",
       "      <td>...</td>\n",
       "      <td>...</td>\n",
       "      <td>...</td>\n",
       "    </tr>\n",
       "    <tr>\n",
       "      <th>5995</th>\n",
       "      <td>Terry</td>\n",
       "      <td>white</td>\n",
       "      <td>M</td>\n",
       "      <td>electrician</td>\n",
       "    </tr>\n",
       "    <tr>\n",
       "      <th>5996</th>\n",
       "      <td>Terry</td>\n",
       "      <td>white</td>\n",
       "      <td>M</td>\n",
       "      <td>plumber</td>\n",
       "    </tr>\n",
       "    <tr>\n",
       "      <th>5997</th>\n",
       "      <td>Terry</td>\n",
       "      <td>white</td>\n",
       "      <td>M</td>\n",
       "      <td>dentist</td>\n",
       "    </tr>\n",
       "    <tr>\n",
       "      <th>5998</th>\n",
       "      <td>Terry</td>\n",
       "      <td>white</td>\n",
       "      <td>M</td>\n",
       "      <td>electrician</td>\n",
       "    </tr>\n",
       "    <tr>\n",
       "      <th>5999</th>\n",
       "      <td>Terry</td>\n",
       "      <td>white</td>\n",
       "      <td>M</td>\n",
       "      <td>plumber</td>\n",
       "    </tr>\n",
       "  </tbody>\n",
       "</table>\n",
       "<p>5972 rows × 4 columns</p>\n",
       "</div>"
      ],
      "text/plain": [
       "       name   race gender         text\n",
       "0      Bibi  asian      F        tutor\n",
       "1      Bibi  asian      F   translator\n",
       "2      Bibi  asian      F   influencer\n",
       "3      Bibi  asian      F        pilot\n",
       "4      Bibi  asian      F         chef\n",
       "...     ...    ...    ...          ...\n",
       "5995  Terry  white      M  electrician\n",
       "5996  Terry  white      M      plumber\n",
       "5997  Terry  white      M      dentist\n",
       "5998  Terry  white      M  electrician\n",
       "5999  Terry  white      M      plumber\n",
       "\n",
       "[5972 rows x 4 columns]"
      ]
     },
     "execution_count": 4,
     "metadata": {},
     "output_type": "execute_result"
    }
   ],
   "source": [
    "df"
   ]
  },
  {
   "cell_type": "markdown",
   "id": "35cb9162",
   "metadata": {},
   "source": [
    "### Load Universal Sentence Encoder"
   ]
  },
  {
   "cell_type": "code",
   "execution_count": 5,
   "id": "b2eaffb8",
   "metadata": {},
   "outputs": [
    {
     "name": "stderr",
     "output_type": "stream",
     "text": [
      "2023-11-20 00:43:59.990213: W tensorflow/tsl/platform/profile_utils/cpu_utils.cc:128] Failed to get CPU frequency: 0 Hz\n"
     ]
    },
    {
     "name": "stdout",
     "output_type": "stream",
     "text": [
      "module https://tfhub.dev/google/universal-sentence-encoder/4 loaded\n"
     ]
    }
   ],
   "source": [
    "module_url = \"https://tfhub.dev/google/universal-sentence-encoder/4\"\n",
    "model = hub.load(module_url)\n",
    "print (\"module %s loaded\" % module_url)"
   ]
  },
  {
   "cell_type": "code",
   "execution_count": 6,
   "id": "33de1168",
   "metadata": {},
   "outputs": [],
   "source": [
    "def embed(text):\n",
    "    return model([text]).numpy()[0]\n",
    "\n",
    "\n",
    "# inner product gives cosine similarity as embeddiings from USE are already normalized\n",
    "def similarity(embedding1, embedding2):\n",
    "    return np.inner(embedding1, embedding2)\n",
    "\n",
    "\n",
    "# distance could be useful for clustering analysis\n",
    "def distance(embedding1, embedding2):\n",
    "    return 1.0 - np.inner(embedding1, embedding2)"
   ]
  },
  {
   "cell_type": "code",
   "execution_count": 7,
   "id": "f2877dc8",
   "metadata": {},
   "outputs": [
    {
     "name": "stderr",
     "output_type": "stream",
     "text": [
      "2023-11-20 00:44:00.820690: I tensorflow/core/common_runtime/executor.cc:1197] [/device:CPU:0] (DEBUG INFO) Executor start aborting (this does not indicate an error and you can ignore this message): INVALID_ARGUMENT: You must feed a value for placeholder tensor 'inputs' with dtype string\n",
      "\t [[{{node inputs}}]]\n"
     ]
    }
   ],
   "source": [
    "# Test: We expect software engineer to be most similar to software developer and least similar to writer\n",
    "\n",
    "software_engineer = embed('software engineer')\n",
    "software_developer = embed('software developer')\n",
    "electrical_engineer = embed('electrical engineer')\n",
    "writer = embed('writer')"
   ]
  },
  {
   "cell_type": "code",
   "execution_count": 8,
   "id": "bfc8007a",
   "metadata": {},
   "outputs": [
    {
     "data": {
      "text/plain": [
       "0.85381174"
      ]
     },
     "execution_count": 8,
     "metadata": {},
     "output_type": "execute_result"
    }
   ],
   "source": [
    "similarity(software_engineer,software_developer)"
   ]
  },
  {
   "cell_type": "code",
   "execution_count": 9,
   "id": "148ca972",
   "metadata": {},
   "outputs": [
    {
     "data": {
      "text/plain": [
       "0.6300371"
      ]
     },
     "execution_count": 9,
     "metadata": {},
     "output_type": "execute_result"
    }
   ],
   "source": [
    "similarity(software_engineer,electrical_engineer)"
   ]
  },
  {
   "cell_type": "code",
   "execution_count": 10,
   "id": "6a363735",
   "metadata": {},
   "outputs": [
    {
     "data": {
      "text/plain": [
       "0.46058458"
      ]
     },
     "execution_count": 10,
     "metadata": {},
     "output_type": "execute_result"
    }
   ],
   "source": [
    "similarity(software_engineer,writer)"
   ]
  },
  {
   "cell_type": "markdown",
   "id": "8f049f4a",
   "metadata": {},
   "source": [
    "### Get embeddings for text"
   ]
  },
  {
   "cell_type": "code",
   "execution_count": 11,
   "id": "bc01c7f7",
   "metadata": {},
   "outputs": [
    {
     "data": {
      "text/html": [
       "<div>\n",
       "<style scoped>\n",
       "    .dataframe tbody tr th:only-of-type {\n",
       "        vertical-align: middle;\n",
       "    }\n",
       "\n",
       "    .dataframe tbody tr th {\n",
       "        vertical-align: top;\n",
       "    }\n",
       "\n",
       "    .dataframe thead th {\n",
       "        text-align: right;\n",
       "    }\n",
       "</style>\n",
       "<table border=\"1\" class=\"dataframe\">\n",
       "  <thead>\n",
       "    <tr style=\"text-align: right;\">\n",
       "      <th></th>\n",
       "      <th>name</th>\n",
       "      <th>race</th>\n",
       "      <th>gender</th>\n",
       "      <th>text</th>\n",
       "      <th>embedding</th>\n",
       "    </tr>\n",
       "  </thead>\n",
       "  <tbody>\n",
       "    <tr>\n",
       "      <th>1030</th>\n",
       "      <td>Noe</td>\n",
       "      <td>asian</td>\n",
       "      <td>M</td>\n",
       "      <td>programmer</td>\n",
       "      <td>[0.044612817, -0.016822815, 0.023837492, 0.023...</td>\n",
       "    </tr>\n",
       "    <tr>\n",
       "      <th>3057</th>\n",
       "      <td>Isabel</td>\n",
       "      <td>hispanic</td>\n",
       "      <td>F</td>\n",
       "      <td>teacher</td>\n",
       "      <td>[-0.031633124, 0.018472634, 0.06361438, 0.0197...</td>\n",
       "    </tr>\n",
       "    <tr>\n",
       "      <th>2455</th>\n",
       "      <td>Reginald</td>\n",
       "      <td>black</td>\n",
       "      <td>M</td>\n",
       "      <td>gardener</td>\n",
       "      <td>[-0.0038754933, -0.03784765, 0.044317666, 0.04...</td>\n",
       "    </tr>\n",
       "    <tr>\n",
       "      <th>1817</th>\n",
       "      <td>Tamara</td>\n",
       "      <td>black</td>\n",
       "      <td>F</td>\n",
       "      <td>dentist</td>\n",
       "      <td>[-0.03493506, -0.035563823, 0.05591933, 0.0161...</td>\n",
       "    </tr>\n",
       "    <tr>\n",
       "      <th>2072</th>\n",
       "      <td>Wanda</td>\n",
       "      <td>black</td>\n",
       "      <td>F</td>\n",
       "      <td>accountant</td>\n",
       "      <td>[-0.052521203, -0.07172108, -0.012731302, -0.0...</td>\n",
       "    </tr>\n",
       "  </tbody>\n",
       "</table>\n",
       "</div>"
      ],
      "text/plain": [
       "          name      race gender        text  \\\n",
       "1030       Noe     asian      M  programmer   \n",
       "3057    Isabel  hispanic      F     teacher   \n",
       "2455  Reginald     black      M    gardener   \n",
       "1817    Tamara     black      F     dentist   \n",
       "2072     Wanda     black      F  accountant   \n",
       "\n",
       "                                              embedding  \n",
       "1030  [0.044612817, -0.016822815, 0.023837492, 0.023...  \n",
       "3057  [-0.031633124, 0.018472634, 0.06361438, 0.0197...  \n",
       "2455  [-0.0038754933, -0.03784765, 0.044317666, 0.04...  \n",
       "1817  [-0.03493506, -0.035563823, 0.05591933, 0.0161...  \n",
       "2072  [-0.052521203, -0.07172108, -0.012731302, -0.0...  "
      ]
     },
     "execution_count": 11,
     "metadata": {},
     "output_type": "execute_result"
    }
   ],
   "source": [
    "df['embedding'] = df['text'].map(embed)\n",
    "df.sample(5)"
   ]
  },
  {
   "cell_type": "markdown",
   "id": "2e7d1f17",
   "metadata": {},
   "source": [
    "### Accessing data"
   ]
  },
  {
   "cell_type": "code",
   "execution_count": 12,
   "id": "bc76268f",
   "metadata": {},
   "outputs": [],
   "source": [
    "# Create masks for easy access!\n",
    "\n",
    "male = df['gender'] == 'M'\n",
    "female = df['gender'] == 'F'\n",
    "asian = df['race'] == 'asian'\n",
    "black = df['race'] == 'black'\n",
    "hispanic = df['race'] == 'hispanic'\n",
    "white = df['race'] == 'white'"
   ]
  },
  {
   "cell_type": "code",
   "execution_count": 13,
   "id": "0629c8b5",
   "metadata": {},
   "outputs": [
    {
     "data": {
      "text/html": [
       "<div>\n",
       "<style scoped>\n",
       "    .dataframe tbody tr th:only-of-type {\n",
       "        vertical-align: middle;\n",
       "    }\n",
       "\n",
       "    .dataframe tbody tr th {\n",
       "        vertical-align: top;\n",
       "    }\n",
       "\n",
       "    .dataframe thead th {\n",
       "        text-align: right;\n",
       "    }\n",
       "</style>\n",
       "<table border=\"1\" class=\"dataframe\">\n",
       "  <thead>\n",
       "    <tr style=\"text-align: right;\">\n",
       "      <th></th>\n",
       "      <th>name</th>\n",
       "      <th>race</th>\n",
       "      <th>gender</th>\n",
       "      <th>text</th>\n",
       "      <th>embedding</th>\n",
       "    </tr>\n",
       "  </thead>\n",
       "  <tbody>\n",
       "    <tr>\n",
       "      <th>4006</th>\n",
       "      <td>Nestor</td>\n",
       "      <td>hispanic</td>\n",
       "      <td>M</td>\n",
       "      <td>caretaker</td>\n",
       "      <td>[0.0064367373, 0.0013597801, -0.032702334, 0.0...</td>\n",
       "    </tr>\n",
       "    <tr>\n",
       "      <th>4308</th>\n",
       "      <td>Isidro</td>\n",
       "      <td>hispanic</td>\n",
       "      <td>M</td>\n",
       "      <td>translator</td>\n",
       "      <td>[-0.012456206, -0.03949191, -0.026884388, 0.03...</td>\n",
       "    </tr>\n",
       "    <tr>\n",
       "      <th>2381</th>\n",
       "      <td>Devin</td>\n",
       "      <td>black</td>\n",
       "      <td>M</td>\n",
       "      <td>graphic designer</td>\n",
       "      <td>[0.02208694, -0.06250166, 0.06601684, 0.022112...</td>\n",
       "    </tr>\n",
       "    <tr>\n",
       "      <th>1372</th>\n",
       "      <td>Ravi</td>\n",
       "      <td>asian</td>\n",
       "      <td>M</td>\n",
       "      <td>software developer</td>\n",
       "      <td>[0.03044688, 0.01658366, 0.051026687, 0.046492...</td>\n",
       "    </tr>\n",
       "    <tr>\n",
       "      <th>5347</th>\n",
       "      <td>Duke</td>\n",
       "      <td>white</td>\n",
       "      <td>M</td>\n",
       "      <td>monarch</td>\n",
       "      <td>[0.020329619, -0.07263715, 0.0143735055, -0.00...</td>\n",
       "    </tr>\n",
       "  </tbody>\n",
       "</table>\n",
       "</div>"
      ],
      "text/plain": [
       "        name      race gender                text  \\\n",
       "4006  Nestor  hispanic      M           caretaker   \n",
       "4308  Isidro  hispanic      M          translator   \n",
       "2381   Devin     black      M    graphic designer   \n",
       "1372    Ravi     asian      M  software developer   \n",
       "5347    Duke     white      M             monarch   \n",
       "\n",
       "                                              embedding  \n",
       "4006  [0.0064367373, 0.0013597801, -0.032702334, 0.0...  \n",
       "4308  [-0.012456206, -0.03949191, -0.026884388, 0.03...  \n",
       "2381  [0.02208694, -0.06250166, 0.06601684, 0.022112...  \n",
       "1372  [0.03044688, 0.01658366, 0.051026687, 0.046492...  \n",
       "5347  [0.020329619, -0.07263715, 0.0143735055, -0.00...  "
      ]
     },
     "execution_count": 13,
     "metadata": {},
     "output_type": "execute_result"
    }
   ],
   "source": [
    "# Examples with one criterion\n",
    "\n",
    "df[male].sample(5)"
   ]
  },
  {
   "cell_type": "code",
   "execution_count": 14,
   "id": "32d68850",
   "metadata": {},
   "outputs": [
    {
     "data": {
      "text/html": [
       "<div>\n",
       "<style scoped>\n",
       "    .dataframe tbody tr th:only-of-type {\n",
       "        vertical-align: middle;\n",
       "    }\n",
       "\n",
       "    .dataframe tbody tr th {\n",
       "        vertical-align: top;\n",
       "    }\n",
       "\n",
       "    .dataframe thead th {\n",
       "        text-align: right;\n",
       "    }\n",
       "</style>\n",
       "<table border=\"1\" class=\"dataframe\">\n",
       "  <thead>\n",
       "    <tr style=\"text-align: right;\">\n",
       "      <th></th>\n",
       "      <th>name</th>\n",
       "      <th>race</th>\n",
       "      <th>gender</th>\n",
       "      <th>text</th>\n",
       "      <th>embedding</th>\n",
       "    </tr>\n",
       "  </thead>\n",
       "  <tbody>\n",
       "    <tr>\n",
       "      <th>3142</th>\n",
       "      <td>Viviana</td>\n",
       "      <td>hispanic</td>\n",
       "      <td>F</td>\n",
       "      <td>translator</td>\n",
       "      <td>[-0.012456206, -0.03949191, -0.026884388, 0.03...</td>\n",
       "    </tr>\n",
       "    <tr>\n",
       "      <th>3111</th>\n",
       "      <td>Viviana</td>\n",
       "      <td>hispanic</td>\n",
       "      <td>F</td>\n",
       "      <td>translator</td>\n",
       "      <td>[-0.012456206, -0.03949191, -0.026884388, 0.03...</td>\n",
       "    </tr>\n",
       "    <tr>\n",
       "      <th>3678</th>\n",
       "      <td>Esperanza</td>\n",
       "      <td>hispanic</td>\n",
       "      <td>F</td>\n",
       "      <td>teacher</td>\n",
       "      <td>[-0.031633124, 0.018472634, 0.06361438, 0.0197...</td>\n",
       "    </tr>\n",
       "    <tr>\n",
       "      <th>3147</th>\n",
       "      <td>Viviana</td>\n",
       "      <td>hispanic</td>\n",
       "      <td>F</td>\n",
       "      <td>dentist</td>\n",
       "      <td>[-0.03493506, -0.035563823, 0.05591933, 0.0161...</td>\n",
       "    </tr>\n",
       "    <tr>\n",
       "      <th>3339</th>\n",
       "      <td>Karina</td>\n",
       "      <td>hispanic</td>\n",
       "      <td>F</td>\n",
       "      <td>data analyst</td>\n",
       "      <td>[0.056828827, -0.005620034, -0.015279198, 0.00...</td>\n",
       "    </tr>\n",
       "  </tbody>\n",
       "</table>\n",
       "</div>"
      ],
      "text/plain": [
       "           name      race gender          text  \\\n",
       "3142    Viviana  hispanic      F    translator   \n",
       "3111    Viviana  hispanic      F    translator   \n",
       "3678  Esperanza  hispanic      F       teacher   \n",
       "3147    Viviana  hispanic      F       dentist   \n",
       "3339     Karina  hispanic      F  data analyst   \n",
       "\n",
       "                                              embedding  \n",
       "3142  [-0.012456206, -0.03949191, -0.026884388, 0.03...  \n",
       "3111  [-0.012456206, -0.03949191, -0.026884388, 0.03...  \n",
       "3678  [-0.031633124, 0.018472634, 0.06361438, 0.0197...  \n",
       "3147  [-0.03493506, -0.035563823, 0.05591933, 0.0161...  \n",
       "3339  [0.056828827, -0.005620034, -0.015279198, 0.00...  "
      ]
     },
     "execution_count": 14,
     "metadata": {},
     "output_type": "execute_result"
    }
   ],
   "source": [
    "# Example with two criterions\n",
    "\n",
    "df[female & hispanic].sample(5)"
   ]
  },
  {
   "cell_type": "code",
   "execution_count": 15,
   "id": "733addcc",
   "metadata": {},
   "outputs": [
    {
     "data": {
      "text/plain": [
       "847     [0.03044688, 0.01658366, 0.051026687, 0.046492...\n",
       "994     [0.03361227, -0.027185218, 0.0033685053, 0.018...\n",
       "1238    [0.03044688, 0.01658366, 0.051026687, 0.046492...\n",
       "973     [0.03044688, 0.01658366, 0.051026687, 0.046492...\n",
       "1360    [0.012382303, -0.0047106287, 0.024845174, 0.02...\n",
       "Name: embedding, dtype: object"
      ]
     },
     "execution_count": 15,
     "metadata": {},
     "output_type": "execute_result"
    }
   ],
   "source": [
    "# Get the embedding column as Series\n",
    "\n",
    "df[asian & male]['embedding'].sample(5)"
   ]
  },
  {
   "cell_type": "markdown",
   "id": "39f14d31",
   "metadata": {},
   "source": [
    "### Export for future use"
   ]
  },
  {
   "cell_type": "code",
   "execution_count": 16,
   "id": "4af877e4",
   "metadata": {},
   "outputs": [],
   "source": [
    "df.to_pickle(\"./processed_data_with_embeddings.pkl\")"
   ]
  }
 ],
 "metadata": {
  "kernelspec": {
   "display_name": "Python 3 (ipykernel)",
   "language": "python",
   "name": "python3"
  },
  "language_info": {
   "codemirror_mode": {
    "name": "ipython",
    "version": 3
   },
   "file_extension": ".py",
   "mimetype": "text/x-python",
   "name": "python",
   "nbconvert_exporter": "python",
   "pygments_lexer": "ipython3",
   "version": "3.11.5"
  }
 },
 "nbformat": 4,
 "nbformat_minor": 5
}
