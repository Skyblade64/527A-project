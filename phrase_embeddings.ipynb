{
 "cells": [
  {
   "cell_type": "code",
   "execution_count": 1,
   "id": "20256014",
   "metadata": {},
   "outputs": [],
   "source": [
    "import string\n",
    "import numpy as np\n",
    "import pandas as pd\n",
    "import tensorflow as tf\n",
    "import tensorflow_hub as hub"
   ]
  },
  {
   "cell_type": "markdown",
   "id": "d0e1a7a6",
   "metadata": {},
   "source": [
    "# Preparation\n",
    "\n",
    "### Load data"
   ]
  },
  {
   "cell_type": "code",
   "execution_count": 2,
   "id": "85ee880e",
   "metadata": {},
   "outputs": [
    {
     "data": {
      "text/html": [
       "<div>\n",
       "<style scoped>\n",
       "    .dataframe tbody tr th:only-of-type {\n",
       "        vertical-align: middle;\n",
       "    }\n",
       "\n",
       "    .dataframe tbody tr th {\n",
       "        vertical-align: top;\n",
       "    }\n",
       "\n",
       "    .dataframe thead th {\n",
       "        text-align: right;\n",
       "    }\n",
       "</style>\n",
       "<table border=\"1\" class=\"dataframe\">\n",
       "  <thead>\n",
       "    <tr style=\"text-align: right;\">\n",
       "      <th></th>\n",
       "      <th>name</th>\n",
       "      <th>race</th>\n",
       "      <th>gender</th>\n",
       "      <th>text</th>\n",
       "      <th>length</th>\n",
       "    </tr>\n",
       "  </thead>\n",
       "  <tbody>\n",
       "    <tr>\n",
       "      <th>912</th>\n",
       "      <td>Samir</td>\n",
       "      <td>asian</td>\n",
       "      <td>M</td>\n",
       "      <td>engineer</td>\n",
       "      <td>1</td>\n",
       "    </tr>\n",
       "    <tr>\n",
       "      <th>903</th>\n",
       "      <td>Samir</td>\n",
       "      <td>asian</td>\n",
       "      <td>M</td>\n",
       "      <td>accountant</td>\n",
       "      <td>1</td>\n",
       "    </tr>\n",
       "    <tr>\n",
       "      <th>1316</th>\n",
       "      <td>Huy</td>\n",
       "      <td>asian</td>\n",
       "      <td>M</td>\n",
       "      <td>graphic designer</td>\n",
       "      <td>2</td>\n",
       "    </tr>\n",
       "    <tr>\n",
       "      <th>2746</th>\n",
       "      <td>Marlon</td>\n",
       "      <td>black</td>\n",
       "      <td>M</td>\n",
       "      <td>chef</td>\n",
       "      <td>1</td>\n",
       "    </tr>\n",
       "    <tr>\n",
       "      <th>2320</th>\n",
       "      <td>Tyrone</td>\n",
       "      <td>black</td>\n",
       "      <td>M</td>\n",
       "      <td>plumber</td>\n",
       "      <td>1</td>\n",
       "    </tr>\n",
       "  </tbody>\n",
       "</table>\n",
       "</div>"
      ],
      "text/plain": [
       "        name   race gender              text  length\n",
       "912    Samir  asian      M          engineer       1\n",
       "903    Samir  asian      M        accountant       1\n",
       "1316     Huy  asian      M  graphic designer       2\n",
       "2746  Marlon  black      M              chef       1\n",
       "2320  Tyrone  black      M           plumber       1"
      ]
     },
     "execution_count": 2,
     "metadata": {},
     "output_type": "execute_result"
    }
   ],
   "source": [
    "df = pd.read_csv('./Data/preprocessed_text.csv')\n",
    "df.sample(5)"
   ]
  },
  {
   "cell_type": "markdown",
   "id": "62b1ca12",
   "metadata": {},
   "source": [
    "### Preprocessing data"
   ]
  },
  {
   "cell_type": "code",
   "execution_count": null,
   "id": "22ff81f5",
   "metadata": {},
   "outputs": [],
   "source": [
    "# prev = len(df)\n",
    "\n",
    "# # Process occupation text: remove whitespace and punctuation, make everything lowercase\n",
    "# df['text'] = df['text'].map(lambda x: x.strip().translate(str.maketrans('', '', string.punctuation)).lower())\n",
    "\n",
    "# # Occupation descriptions with more than 5 words are dropped\n",
    "# df = df[ df['text'].map(lambda job_name: job_name.count(' ')) < 5 ]\n",
    "# print(prev - len(df), \"entries dropped - occupation description too long due to GPT's refusal to answer.\\n\")\n",
    "\n",
    "# # Check previous work\n",
    "# print('Confirm - 5 entries with the longest occupation descriptions:')\n",
    "# df.sort_values(by='text', key=lambda col: col.map(len)).tail()"
   ]
  },
  {
   "cell_type": "code",
   "execution_count": null,
   "id": "08d0197a",
   "metadata": {},
   "outputs": [],
   "source": [
    "# df"
   ]
  },
  {
   "cell_type": "markdown",
   "id": "35cb9162",
   "metadata": {},
   "source": [
    "### Load Universal Sentence Encoder"
   ]
  },
  {
   "cell_type": "code",
   "execution_count": 3,
   "id": "b2eaffb8",
   "metadata": {},
   "outputs": [
    {
     "name": "stderr",
     "output_type": "stream",
     "text": [
      "2023-11-20 20:36:23.411686: W tensorflow/tsl/platform/profile_utils/cpu_utils.cc:128] Failed to get CPU frequency: 0 Hz\n"
     ]
    },
    {
     "name": "stdout",
     "output_type": "stream",
     "text": [
      "module https://tfhub.dev/google/universal-sentence-encoder/4 loaded\n"
     ]
    }
   ],
   "source": [
    "module_url = \"https://tfhub.dev/google/universal-sentence-encoder/4\"\n",
    "model = hub.load(module_url)\n",
    "print (\"module %s loaded\" % module_url)"
   ]
  },
  {
   "cell_type": "code",
   "execution_count": 4,
   "id": "33de1168",
   "metadata": {},
   "outputs": [],
   "source": [
    "def embed(text):\n",
    "    return model([text]).numpy()[0]\n",
    "\n",
    "\n",
    "# inner product gives cosine similarity as embeddiings from USE are already normalized\n",
    "def similarity(embedding1, embedding2):\n",
    "    return np.inner(embedding1, embedding2)\n",
    "\n",
    "\n",
    "# distance could be useful for clustering analysis\n",
    "def distance(embedding1, embedding2):\n",
    "    return 1.0 - np.inner(embedding1, embedding2)"
   ]
  },
  {
   "cell_type": "code",
   "execution_count": 5,
   "id": "f2877dc8",
   "metadata": {},
   "outputs": [
    {
     "name": "stderr",
     "output_type": "stream",
     "text": [
      "2023-11-20 20:36:31.151437: I tensorflow/core/common_runtime/executor.cc:1197] [/device:CPU:0] (DEBUG INFO) Executor start aborting (this does not indicate an error and you can ignore this message): INVALID_ARGUMENT: You must feed a value for placeholder tensor 'inputs' with dtype string\n",
      "\t [[{{node inputs}}]]\n"
     ]
    }
   ],
   "source": [
    "# Test: We expect software engineer to be most similar to software developer and least similar to writer\n",
    "\n",
    "software_engineer = embed('software engineer')\n",
    "software_developer = embed('software developer')\n",
    "electrical_engineer = embed('electrical engineer')\n",
    "writer = embed('writer')"
   ]
  },
  {
   "cell_type": "code",
   "execution_count": 6,
   "id": "bfc8007a",
   "metadata": {},
   "outputs": [
    {
     "data": {
      "text/plain": [
       "0.85381174"
      ]
     },
     "execution_count": 6,
     "metadata": {},
     "output_type": "execute_result"
    }
   ],
   "source": [
    "similarity(software_engineer,software_developer)"
   ]
  },
  {
   "cell_type": "code",
   "execution_count": 7,
   "id": "148ca972",
   "metadata": {},
   "outputs": [
    {
     "data": {
      "text/plain": [
       "0.6300371"
      ]
     },
     "execution_count": 7,
     "metadata": {},
     "output_type": "execute_result"
    }
   ],
   "source": [
    "similarity(software_engineer,electrical_engineer)"
   ]
  },
  {
   "cell_type": "code",
   "execution_count": 8,
   "id": "6a363735",
   "metadata": {},
   "outputs": [
    {
     "data": {
      "text/plain": [
       "0.46058458"
      ]
     },
     "execution_count": 8,
     "metadata": {},
     "output_type": "execute_result"
    }
   ],
   "source": [
    "similarity(software_engineer,writer)"
   ]
  },
  {
   "cell_type": "markdown",
   "id": "8f049f4a",
   "metadata": {},
   "source": [
    "### Get embeddings for text"
   ]
  },
  {
   "cell_type": "code",
   "execution_count": 9,
   "id": "bc01c7f7",
   "metadata": {},
   "outputs": [
    {
     "data": {
      "text/html": [
       "<div>\n",
       "<style scoped>\n",
       "    .dataframe tbody tr th:only-of-type {\n",
       "        vertical-align: middle;\n",
       "    }\n",
       "\n",
       "    .dataframe tbody tr th {\n",
       "        vertical-align: top;\n",
       "    }\n",
       "\n",
       "    .dataframe thead th {\n",
       "        text-align: right;\n",
       "    }\n",
       "</style>\n",
       "<table border=\"1\" class=\"dataframe\">\n",
       "  <thead>\n",
       "    <tr style=\"text-align: right;\">\n",
       "      <th></th>\n",
       "      <th>name</th>\n",
       "      <th>race</th>\n",
       "      <th>gender</th>\n",
       "      <th>text</th>\n",
       "      <th>length</th>\n",
       "      <th>embedding</th>\n",
       "    </tr>\n",
       "  </thead>\n",
       "  <tbody>\n",
       "    <tr>\n",
       "      <th>3023</th>\n",
       "      <td>Selina</td>\n",
       "      <td>hispanic</td>\n",
       "      <td>F</td>\n",
       "      <td>paralegal</td>\n",
       "      <td>1</td>\n",
       "      <td>[-0.053451147, -0.054388534, 0.022549136, -0.0...</td>\n",
       "    </tr>\n",
       "    <tr>\n",
       "      <th>966</th>\n",
       "      <td>Tuan</td>\n",
       "      <td>asian</td>\n",
       "      <td>M</td>\n",
       "      <td>software engineer</td>\n",
       "      <td>2</td>\n",
       "      <td>[0.012382303, -0.0047106287, 0.024845174, 0.02...</td>\n",
       "    </tr>\n",
       "    <tr>\n",
       "      <th>4683</th>\n",
       "      <td>Esther</td>\n",
       "      <td>white</td>\n",
       "      <td>F</td>\n",
       "      <td>accountant</td>\n",
       "      <td>1</td>\n",
       "      <td>[-0.052521203, -0.07172108, -0.012731302, -0.0...</td>\n",
       "    </tr>\n",
       "    <tr>\n",
       "      <th>959</th>\n",
       "      <td>Tuan</td>\n",
       "      <td>asian</td>\n",
       "      <td>M</td>\n",
       "      <td>software developer</td>\n",
       "      <td>2</td>\n",
       "      <td>[0.03044688, 0.01658366, 0.051026687, 0.046492...</td>\n",
       "    </tr>\n",
       "    <tr>\n",
       "      <th>3796</th>\n",
       "      <td>Angelo</td>\n",
       "      <td>hispanic</td>\n",
       "      <td>M</td>\n",
       "      <td>carpenter</td>\n",
       "      <td>1</td>\n",
       "      <td>[0.0019878338, -0.030702533, 0.069768734, 0.06...</td>\n",
       "    </tr>\n",
       "  </tbody>\n",
       "</table>\n",
       "</div>"
      ],
      "text/plain": [
       "        name      race gender                text  length  \\\n",
       "3023  Selina  hispanic      F           paralegal       1   \n",
       "966     Tuan     asian      M   software engineer       2   \n",
       "4683  Esther     white      F          accountant       1   \n",
       "959     Tuan     asian      M  software developer       2   \n",
       "3796  Angelo  hispanic      M           carpenter       1   \n",
       "\n",
       "                                              embedding  \n",
       "3023  [-0.053451147, -0.054388534, 0.022549136, -0.0...  \n",
       "966   [0.012382303, -0.0047106287, 0.024845174, 0.02...  \n",
       "4683  [-0.052521203, -0.07172108, -0.012731302, -0.0...  \n",
       "959   [0.03044688, 0.01658366, 0.051026687, 0.046492...  \n",
       "3796  [0.0019878338, -0.030702533, 0.069768734, 0.06...  "
      ]
     },
     "execution_count": 9,
     "metadata": {},
     "output_type": "execute_result"
    }
   ],
   "source": [
    "df['embedding'] = df['text'].map(embed)\n",
    "df.sample(5)"
   ]
  },
  {
   "cell_type": "markdown",
   "id": "2e7d1f17",
   "metadata": {},
   "source": [
    "### Accessing data"
   ]
  },
  {
   "cell_type": "code",
   "execution_count": 10,
   "id": "bc76268f",
   "metadata": {},
   "outputs": [],
   "source": [
    "# Create masks for easy access!\n",
    "\n",
    "male = df['gender'] == 'M'\n",
    "female = df['gender'] == 'F'\n",
    "asian = df['race'] == 'asian'\n",
    "black = df['race'] == 'black'\n",
    "hispanic = df['race'] == 'hispanic'\n",
    "white = df['race'] == 'white'"
   ]
  },
  {
   "cell_type": "code",
   "execution_count": 11,
   "id": "0629c8b5",
   "metadata": {},
   "outputs": [
    {
     "data": {
      "text/html": [
       "<div>\n",
       "<style scoped>\n",
       "    .dataframe tbody tr th:only-of-type {\n",
       "        vertical-align: middle;\n",
       "    }\n",
       "\n",
       "    .dataframe tbody tr th {\n",
       "        vertical-align: top;\n",
       "    }\n",
       "\n",
       "    .dataframe thead th {\n",
       "        text-align: right;\n",
       "    }\n",
       "</style>\n",
       "<table border=\"1\" class=\"dataframe\">\n",
       "  <thead>\n",
       "    <tr style=\"text-align: right;\">\n",
       "      <th></th>\n",
       "      <th>name</th>\n",
       "      <th>race</th>\n",
       "      <th>gender</th>\n",
       "      <th>text</th>\n",
       "      <th>length</th>\n",
       "      <th>embedding</th>\n",
       "    </tr>\n",
       "  </thead>\n",
       "  <tbody>\n",
       "    <tr>\n",
       "      <th>2529</th>\n",
       "      <td>Quincy</td>\n",
       "      <td>black</td>\n",
       "      <td>M</td>\n",
       "      <td>lawyer</td>\n",
       "      <td>1</td>\n",
       "      <td>[-0.055707406, 0.0051456937, -0.013252552, 0.0...</td>\n",
       "    </tr>\n",
       "    <tr>\n",
       "      <th>5492</th>\n",
       "      <td>Erick</td>\n",
       "      <td>white</td>\n",
       "      <td>M</td>\n",
       "      <td>software engineer</td>\n",
       "      <td>2</td>\n",
       "      <td>[0.012382303, -0.0047106287, 0.024845174, 0.02...</td>\n",
       "    </tr>\n",
       "    <tr>\n",
       "      <th>1481</th>\n",
       "      <td>Jae</td>\n",
       "      <td>asian</td>\n",
       "      <td>M</td>\n",
       "      <td>data analyst</td>\n",
       "      <td>2</td>\n",
       "      <td>[0.056828827, -0.005620034, -0.015279198, 0.00...</td>\n",
       "    </tr>\n",
       "    <tr>\n",
       "      <th>5620</th>\n",
       "      <td>Arnold</td>\n",
       "      <td>white</td>\n",
       "      <td>M</td>\n",
       "      <td>electrician</td>\n",
       "      <td>1</td>\n",
       "      <td>[0.011973024, -0.06220785, 0.059820715, 0.0343...</td>\n",
       "    </tr>\n",
       "    <tr>\n",
       "      <th>2590</th>\n",
       "      <td>Jermaine</td>\n",
       "      <td>black</td>\n",
       "      <td>M</td>\n",
       "      <td>software developer</td>\n",
       "      <td>2</td>\n",
       "      <td>[0.03044688, 0.01658366, 0.051026687, 0.046492...</td>\n",
       "    </tr>\n",
       "  </tbody>\n",
       "</table>\n",
       "</div>"
      ],
      "text/plain": [
       "          name   race gender                text  length  \\\n",
       "2529    Quincy  black      M              lawyer       1   \n",
       "5492     Erick  white      M   software engineer       2   \n",
       "1481       Jae  asian      M        data analyst       2   \n",
       "5620    Arnold  white      M         electrician       1   \n",
       "2590  Jermaine  black      M  software developer       2   \n",
       "\n",
       "                                              embedding  \n",
       "2529  [-0.055707406, 0.0051456937, -0.013252552, 0.0...  \n",
       "5492  [0.012382303, -0.0047106287, 0.024845174, 0.02...  \n",
       "1481  [0.056828827, -0.005620034, -0.015279198, 0.00...  \n",
       "5620  [0.011973024, -0.06220785, 0.059820715, 0.0343...  \n",
       "2590  [0.03044688, 0.01658366, 0.051026687, 0.046492...  "
      ]
     },
     "execution_count": 11,
     "metadata": {},
     "output_type": "execute_result"
    }
   ],
   "source": [
    "# Examples with one criterion\n",
    "\n",
    "df[male].sample(5)"
   ]
  },
  {
   "cell_type": "code",
   "execution_count": 12,
   "id": "32d68850",
   "metadata": {},
   "outputs": [
    {
     "data": {
      "text/html": [
       "<div>\n",
       "<style scoped>\n",
       "    .dataframe tbody tr th:only-of-type {\n",
       "        vertical-align: middle;\n",
       "    }\n",
       "\n",
       "    .dataframe tbody tr th {\n",
       "        vertical-align: top;\n",
       "    }\n",
       "\n",
       "    .dataframe thead th {\n",
       "        text-align: right;\n",
       "    }\n",
       "</style>\n",
       "<table border=\"1\" class=\"dataframe\">\n",
       "  <thead>\n",
       "    <tr style=\"text-align: right;\">\n",
       "      <th></th>\n",
       "      <th>name</th>\n",
       "      <th>race</th>\n",
       "      <th>gender</th>\n",
       "      <th>text</th>\n",
       "      <th>length</th>\n",
       "      <th>embedding</th>\n",
       "    </tr>\n",
       "  </thead>\n",
       "  <tbody>\n",
       "    <tr>\n",
       "      <th>3440</th>\n",
       "      <td>Juliana</td>\n",
       "      <td>hispanic</td>\n",
       "      <td>F</td>\n",
       "      <td>graphic designer</td>\n",
       "      <td>2</td>\n",
       "      <td>[0.02208694, -0.06250166, 0.06601684, 0.022112...</td>\n",
       "    </tr>\n",
       "    <tr>\n",
       "      <th>3704</th>\n",
       "      <td>Raquel</td>\n",
       "      <td>hispanic</td>\n",
       "      <td>F</td>\n",
       "      <td>dentist</td>\n",
       "      <td>1</td>\n",
       "      <td>[-0.03493506, -0.035563823, 0.05591933, 0.0161...</td>\n",
       "    </tr>\n",
       "    <tr>\n",
       "      <th>3387</th>\n",
       "      <td>Angelia</td>\n",
       "      <td>hispanic</td>\n",
       "      <td>F</td>\n",
       "      <td>statistician</td>\n",
       "      <td>1</td>\n",
       "      <td>[0.028326634, -0.09130431, -0.05983043, -0.001...</td>\n",
       "    </tr>\n",
       "    <tr>\n",
       "      <th>3283</th>\n",
       "      <td>Karina</td>\n",
       "      <td>hispanic</td>\n",
       "      <td>F</td>\n",
       "      <td>translator</td>\n",
       "      <td>1</td>\n",
       "      <td>[-0.012456206, -0.03949191, -0.026884388, 0.03...</td>\n",
       "    </tr>\n",
       "    <tr>\n",
       "      <th>3404</th>\n",
       "      <td>Angelia</td>\n",
       "      <td>hispanic</td>\n",
       "      <td>F</td>\n",
       "      <td>translator</td>\n",
       "      <td>1</td>\n",
       "      <td>[-0.012456206, -0.03949191, -0.026884388, 0.03...</td>\n",
       "    </tr>\n",
       "  </tbody>\n",
       "</table>\n",
       "</div>"
      ],
      "text/plain": [
       "         name      race gender              text  length  \\\n",
       "3440  Juliana  hispanic      F  graphic designer       2   \n",
       "3704   Raquel  hispanic      F          dentist        1   \n",
       "3387  Angelia  hispanic      F      statistician       1   \n",
       "3283   Karina  hispanic      F        translator       1   \n",
       "3404  Angelia  hispanic      F        translator       1   \n",
       "\n",
       "                                              embedding  \n",
       "3440  [0.02208694, -0.06250166, 0.06601684, 0.022112...  \n",
       "3704  [-0.03493506, -0.035563823, 0.05591933, 0.0161...  \n",
       "3387  [0.028326634, -0.09130431, -0.05983043, -0.001...  \n",
       "3283  [-0.012456206, -0.03949191, -0.026884388, 0.03...  \n",
       "3404  [-0.012456206, -0.03949191, -0.026884388, 0.03...  "
      ]
     },
     "execution_count": 12,
     "metadata": {},
     "output_type": "execute_result"
    }
   ],
   "source": [
    "# Example with two criterions\n",
    "\n",
    "df[female & hispanic].sample(5)"
   ]
  },
  {
   "cell_type": "code",
   "execution_count": 13,
   "id": "733addcc",
   "metadata": {},
   "outputs": [
    {
     "data": {
      "text/plain": [
       "1133    [-0.012456206, -0.03949191, -0.026884388, 0.03...\n",
       "876     [-0.020740997, -0.06392108, -0.019993724, 0.03...\n",
       "1458    [-0.031633124, 0.018472634, 0.06361438, 0.0197...\n",
       "1273    [-0.012456206, -0.03949191, -0.026884388, 0.03...\n",
       "1182    [0.012382303, -0.0047106287, 0.024845174, 0.02...\n",
       "Name: embedding, dtype: object"
      ]
     },
     "execution_count": 13,
     "metadata": {},
     "output_type": "execute_result"
    }
   ],
   "source": [
    "# Get the embedding column as Series\n",
    "\n",
    "df[asian & male]['embedding'].sample(5)"
   ]
  },
  {
   "cell_type": "markdown",
   "id": "39f14d31",
   "metadata": {},
   "source": [
    "### Export for future use"
   ]
  },
  {
   "cell_type": "code",
   "execution_count": 15,
   "id": "4af877e4",
   "metadata": {},
   "outputs": [],
   "source": [
    "df.to_pickle(\"./Data/final_processed_with_embeddings.pkl\")"
   ]
  },
  {
   "cell_type": "code",
   "execution_count": null,
   "id": "b60b0936",
   "metadata": {},
   "outputs": [],
   "source": []
  }
 ],
 "metadata": {
  "kernelspec": {
   "display_name": "Python 3 (ipykernel)",
   "language": "python",
   "name": "python3"
  },
  "language_info": {
   "codemirror_mode": {
    "name": "ipython",
    "version": 3
   },
   "file_extension": ".py",
   "mimetype": "text/x-python",
   "name": "python",
   "nbconvert_exporter": "python",
   "pygments_lexer": "ipython3",
   "version": "3.11.5"
  }
 },
 "nbformat": 4,
 "nbformat_minor": 5
}
